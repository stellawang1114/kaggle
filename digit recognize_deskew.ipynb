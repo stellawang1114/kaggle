{
 "cells": [
  {
   "cell_type": "markdown",
   "metadata": {},
   "source": [
    "# Digit Recognizer: Learn computer vision fundamentals with the famous MNIST data\n",
    "* 1.Defining the problem statement\n",
    "* 2.Collecting the data\n",
    "* 3.Exploratory data analysis\n",
    "* 4.Feature engineering\n",
    "* 5.Modelling\n",
    "* 6.Testing"
   ]
  },
  {
   "cell_type": "markdown",
   "metadata": {},
   "source": [
    "# 1. Defining the problem statement\n",
    "The data files train.csv and test.csv contain gray-scale images of hand-drawn digits, from zero through nine.\n",
    "\n",
    "Each image is 28 pixels in height and 28 pixels in width, for a total of 784 pixels in total.\n",
    "Each pixel has a single pixel-value associated with it, indicating the lightness or darkness of that pixel, with higher numbers meaning darker. This pixel-value is an integer between 0 and 255, inclusive.\n",
    "\n",
    "To locate this pixel on the image, suppose that we have decomposed x as x = i * 28 + j, where i and j are integers between 0 and 27, inclusive."
   ]
  },
  {
   "cell_type": "markdown",
   "metadata": {},
   "source": [
    "# 2. Collecting the data\n",
    "download from https://www.kaggle.com/c/digit-recognizer/data\n",
    "### load train, test dataset using Pandas"
   ]
  },
  {
   "cell_type": "code",
   "execution_count": 1,
   "metadata": {},
   "outputs": [],
   "source": [
    "import pandas as pd # data processing, CSV file I/O (e.g. pd.read_csv)\n",
    "\n",
    "train = pd.read_csv(\"E:/kaggle/digit recognizer/train.csv\")\n",
    "test = pd.read_csv(\"E:/kaggle/digit recognizer/test.csv\")\n",
    "submit = pd.read_csv('E:/kaggle/digit recognizer/sample_submission.csv')"
   ]
  },
  {
   "cell_type": "markdown",
   "metadata": {},
   "source": [
    "### import packages for visualization"
   ]
  },
  {
   "cell_type": "code",
   "execution_count": 2,
   "metadata": {},
   "outputs": [],
   "source": [
    "import numpy as np # linear algebra\n",
    "import seaborn as sns\n",
    "import matplotlib.pyplot as plt\n",
    "%matplotlib inline"
   ]
  },
  {
   "cell_type": "markdown",
   "metadata": {},
   "source": [
    "# 3. Exploratory data analysis\n",
    "## 3.1 Exploring data without Categorical Features\n",
    "* info\n",
    "* shape\n",
    "* head\n",
    "* isnull().sum()\n",
    "* describe"
   ]
  },
  {
   "cell_type": "code",
   "execution_count": 3,
   "metadata": {
    "collapsed": true
   },
   "outputs": [
    {
     "name": "stdout",
     "output_type": "stream",
     "text": [
      "<class 'pandas.core.frame.DataFrame'>\n",
      "RangeIndex: 42000 entries, 0 to 41999\n",
      "Columns: 785 entries, label to pixel783\n",
      "dtypes: int64(785)\n",
      "memory usage: 251.5 MB\n"
     ]
    }
   ],
   "source": [
    "train.info()  # data stucture"
   ]
  },
  {
   "cell_type": "code",
   "execution_count": 4,
   "metadata": {
    "collapsed": true
   },
   "outputs": [
    {
     "name": "stdout",
     "output_type": "stream",
     "text": [
      "<class 'pandas.core.frame.DataFrame'>\n",
      "RangeIndex: 28000 entries, 0 to 27999\n",
      "Columns: 784 entries, pixel0 to pixel783\n",
      "dtypes: int64(784)\n",
      "memory usage: 167.5 MB\n"
     ]
    }
   ],
   "source": [
    "test.info()"
   ]
  },
  {
   "cell_type": "code",
   "execution_count": 6,
   "metadata": {},
   "outputs": [
    {
     "data": {
      "text/plain": [
       "(42000, 785)"
      ]
     },
     "execution_count": 6,
     "metadata": {},
     "output_type": "execute_result"
    }
   ],
   "source": [
    "train.shape   # data size"
   ]
  },
  {
   "cell_type": "code",
   "execution_count": 7,
   "metadata": {},
   "outputs": [
    {
     "data": {
      "text/plain": [
       "(28000, 784)"
      ]
     },
     "execution_count": 7,
     "metadata": {},
     "output_type": "execute_result"
    }
   ],
   "source": [
    "test.shape "
   ]
  },
  {
   "cell_type": "code",
   "execution_count": 8,
   "metadata": {
    "collapsed": true
   },
   "outputs": [
    {
     "data": {
      "text/html": [
       "<div>\n",
       "<style scoped>\n",
       "    .dataframe tbody tr th:only-of-type {\n",
       "        vertical-align: middle;\n",
       "    }\n",
       "\n",
       "    .dataframe tbody tr th {\n",
       "        vertical-align: top;\n",
       "    }\n",
       "\n",
       "    .dataframe thead th {\n",
       "        text-align: right;\n",
       "    }\n",
       "</style>\n",
       "<table border=\"1\" class=\"dataframe\">\n",
       "  <thead>\n",
       "    <tr style=\"text-align: right;\">\n",
       "      <th></th>\n",
       "      <th>label</th>\n",
       "      <th>pixel0</th>\n",
       "      <th>pixel1</th>\n",
       "      <th>pixel2</th>\n",
       "      <th>pixel3</th>\n",
       "      <th>pixel4</th>\n",
       "      <th>pixel5</th>\n",
       "      <th>pixel6</th>\n",
       "      <th>pixel7</th>\n",
       "      <th>pixel8</th>\n",
       "      <th>...</th>\n",
       "      <th>pixel774</th>\n",
       "      <th>pixel775</th>\n",
       "      <th>pixel776</th>\n",
       "      <th>pixel777</th>\n",
       "      <th>pixel778</th>\n",
       "      <th>pixel779</th>\n",
       "      <th>pixel780</th>\n",
       "      <th>pixel781</th>\n",
       "      <th>pixel782</th>\n",
       "      <th>pixel783</th>\n",
       "    </tr>\n",
       "  </thead>\n",
       "  <tbody>\n",
       "    <tr>\n",
       "      <th>0</th>\n",
       "      <td>1</td>\n",
       "      <td>0</td>\n",
       "      <td>0</td>\n",
       "      <td>0</td>\n",
       "      <td>0</td>\n",
       "      <td>0</td>\n",
       "      <td>0</td>\n",
       "      <td>0</td>\n",
       "      <td>0</td>\n",
       "      <td>0</td>\n",
       "      <td>...</td>\n",
       "      <td>0</td>\n",
       "      <td>0</td>\n",
       "      <td>0</td>\n",
       "      <td>0</td>\n",
       "      <td>0</td>\n",
       "      <td>0</td>\n",
       "      <td>0</td>\n",
       "      <td>0</td>\n",
       "      <td>0</td>\n",
       "      <td>0</td>\n",
       "    </tr>\n",
       "    <tr>\n",
       "      <th>1</th>\n",
       "      <td>0</td>\n",
       "      <td>0</td>\n",
       "      <td>0</td>\n",
       "      <td>0</td>\n",
       "      <td>0</td>\n",
       "      <td>0</td>\n",
       "      <td>0</td>\n",
       "      <td>0</td>\n",
       "      <td>0</td>\n",
       "      <td>0</td>\n",
       "      <td>...</td>\n",
       "      <td>0</td>\n",
       "      <td>0</td>\n",
       "      <td>0</td>\n",
       "      <td>0</td>\n",
       "      <td>0</td>\n",
       "      <td>0</td>\n",
       "      <td>0</td>\n",
       "      <td>0</td>\n",
       "      <td>0</td>\n",
       "      <td>0</td>\n",
       "    </tr>\n",
       "    <tr>\n",
       "      <th>2</th>\n",
       "      <td>1</td>\n",
       "      <td>0</td>\n",
       "      <td>0</td>\n",
       "      <td>0</td>\n",
       "      <td>0</td>\n",
       "      <td>0</td>\n",
       "      <td>0</td>\n",
       "      <td>0</td>\n",
       "      <td>0</td>\n",
       "      <td>0</td>\n",
       "      <td>...</td>\n",
       "      <td>0</td>\n",
       "      <td>0</td>\n",
       "      <td>0</td>\n",
       "      <td>0</td>\n",
       "      <td>0</td>\n",
       "      <td>0</td>\n",
       "      <td>0</td>\n",
       "      <td>0</td>\n",
       "      <td>0</td>\n",
       "      <td>0</td>\n",
       "    </tr>\n",
       "    <tr>\n",
       "      <th>3</th>\n",
       "      <td>4</td>\n",
       "      <td>0</td>\n",
       "      <td>0</td>\n",
       "      <td>0</td>\n",
       "      <td>0</td>\n",
       "      <td>0</td>\n",
       "      <td>0</td>\n",
       "      <td>0</td>\n",
       "      <td>0</td>\n",
       "      <td>0</td>\n",
       "      <td>...</td>\n",
       "      <td>0</td>\n",
       "      <td>0</td>\n",
       "      <td>0</td>\n",
       "      <td>0</td>\n",
       "      <td>0</td>\n",
       "      <td>0</td>\n",
       "      <td>0</td>\n",
       "      <td>0</td>\n",
       "      <td>0</td>\n",
       "      <td>0</td>\n",
       "    </tr>\n",
       "    <tr>\n",
       "      <th>4</th>\n",
       "      <td>0</td>\n",
       "      <td>0</td>\n",
       "      <td>0</td>\n",
       "      <td>0</td>\n",
       "      <td>0</td>\n",
       "      <td>0</td>\n",
       "      <td>0</td>\n",
       "      <td>0</td>\n",
       "      <td>0</td>\n",
       "      <td>0</td>\n",
       "      <td>...</td>\n",
       "      <td>0</td>\n",
       "      <td>0</td>\n",
       "      <td>0</td>\n",
       "      <td>0</td>\n",
       "      <td>0</td>\n",
       "      <td>0</td>\n",
       "      <td>0</td>\n",
       "      <td>0</td>\n",
       "      <td>0</td>\n",
       "      <td>0</td>\n",
       "    </tr>\n",
       "  </tbody>\n",
       "</table>\n",
       "<p>5 rows × 785 columns</p>\n",
       "</div>"
      ],
      "text/plain": [
       "   label  pixel0  pixel1  pixel2  pixel3  pixel4  pixel5  pixel6  pixel7  \\\n",
       "0      1       0       0       0       0       0       0       0       0   \n",
       "1      0       0       0       0       0       0       0       0       0   \n",
       "2      1       0       0       0       0       0       0       0       0   \n",
       "3      4       0       0       0       0       0       0       0       0   \n",
       "4      0       0       0       0       0       0       0       0       0   \n",
       "\n",
       "   pixel8  ...  pixel774  pixel775  pixel776  pixel777  pixel778  pixel779  \\\n",
       "0       0  ...         0         0         0         0         0         0   \n",
       "1       0  ...         0         0         0         0         0         0   \n",
       "2       0  ...         0         0         0         0         0         0   \n",
       "3       0  ...         0         0         0         0         0         0   \n",
       "4       0  ...         0         0         0         0         0         0   \n",
       "\n",
       "   pixel780  pixel781  pixel782  pixel783  \n",
       "0         0         0         0         0  \n",
       "1         0         0         0         0  \n",
       "2         0         0         0         0  \n",
       "3         0         0         0         0  \n",
       "4         0         0         0         0  \n",
       "\n",
       "[5 rows x 785 columns]"
      ]
     },
     "execution_count": 8,
     "metadata": {},
     "output_type": "execute_result"
    }
   ],
   "source": [
    "train.head()  # first 5 datas"
   ]
  },
  {
   "cell_type": "code",
   "execution_count": 9,
   "metadata": {
    "collapsed": true
   },
   "outputs": [
    {
     "data": {
      "text/html": [
       "<div>\n",
       "<style scoped>\n",
       "    .dataframe tbody tr th:only-of-type {\n",
       "        vertical-align: middle;\n",
       "    }\n",
       "\n",
       "    .dataframe tbody tr th {\n",
       "        vertical-align: top;\n",
       "    }\n",
       "\n",
       "    .dataframe thead th {\n",
       "        text-align: right;\n",
       "    }\n",
       "</style>\n",
       "<table border=\"1\" class=\"dataframe\">\n",
       "  <thead>\n",
       "    <tr style=\"text-align: right;\">\n",
       "      <th></th>\n",
       "      <th>pixel0</th>\n",
       "      <th>pixel1</th>\n",
       "      <th>pixel2</th>\n",
       "      <th>pixel3</th>\n",
       "      <th>pixel4</th>\n",
       "      <th>pixel5</th>\n",
       "      <th>pixel6</th>\n",
       "      <th>pixel7</th>\n",
       "      <th>pixel8</th>\n",
       "      <th>pixel9</th>\n",
       "      <th>...</th>\n",
       "      <th>pixel774</th>\n",
       "      <th>pixel775</th>\n",
       "      <th>pixel776</th>\n",
       "      <th>pixel777</th>\n",
       "      <th>pixel778</th>\n",
       "      <th>pixel779</th>\n",
       "      <th>pixel780</th>\n",
       "      <th>pixel781</th>\n",
       "      <th>pixel782</th>\n",
       "      <th>pixel783</th>\n",
       "    </tr>\n",
       "  </thead>\n",
       "  <tbody>\n",
       "    <tr>\n",
       "      <th>0</th>\n",
       "      <td>0</td>\n",
       "      <td>0</td>\n",
       "      <td>0</td>\n",
       "      <td>0</td>\n",
       "      <td>0</td>\n",
       "      <td>0</td>\n",
       "      <td>0</td>\n",
       "      <td>0</td>\n",
       "      <td>0</td>\n",
       "      <td>0</td>\n",
       "      <td>...</td>\n",
       "      <td>0</td>\n",
       "      <td>0</td>\n",
       "      <td>0</td>\n",
       "      <td>0</td>\n",
       "      <td>0</td>\n",
       "      <td>0</td>\n",
       "      <td>0</td>\n",
       "      <td>0</td>\n",
       "      <td>0</td>\n",
       "      <td>0</td>\n",
       "    </tr>\n",
       "    <tr>\n",
       "      <th>1</th>\n",
       "      <td>0</td>\n",
       "      <td>0</td>\n",
       "      <td>0</td>\n",
       "      <td>0</td>\n",
       "      <td>0</td>\n",
       "      <td>0</td>\n",
       "      <td>0</td>\n",
       "      <td>0</td>\n",
       "      <td>0</td>\n",
       "      <td>0</td>\n",
       "      <td>...</td>\n",
       "      <td>0</td>\n",
       "      <td>0</td>\n",
       "      <td>0</td>\n",
       "      <td>0</td>\n",
       "      <td>0</td>\n",
       "      <td>0</td>\n",
       "      <td>0</td>\n",
       "      <td>0</td>\n",
       "      <td>0</td>\n",
       "      <td>0</td>\n",
       "    </tr>\n",
       "    <tr>\n",
       "      <th>2</th>\n",
       "      <td>0</td>\n",
       "      <td>0</td>\n",
       "      <td>0</td>\n",
       "      <td>0</td>\n",
       "      <td>0</td>\n",
       "      <td>0</td>\n",
       "      <td>0</td>\n",
       "      <td>0</td>\n",
       "      <td>0</td>\n",
       "      <td>0</td>\n",
       "      <td>...</td>\n",
       "      <td>0</td>\n",
       "      <td>0</td>\n",
       "      <td>0</td>\n",
       "      <td>0</td>\n",
       "      <td>0</td>\n",
       "      <td>0</td>\n",
       "      <td>0</td>\n",
       "      <td>0</td>\n",
       "      <td>0</td>\n",
       "      <td>0</td>\n",
       "    </tr>\n",
       "    <tr>\n",
       "      <th>3</th>\n",
       "      <td>0</td>\n",
       "      <td>0</td>\n",
       "      <td>0</td>\n",
       "      <td>0</td>\n",
       "      <td>0</td>\n",
       "      <td>0</td>\n",
       "      <td>0</td>\n",
       "      <td>0</td>\n",
       "      <td>0</td>\n",
       "      <td>0</td>\n",
       "      <td>...</td>\n",
       "      <td>0</td>\n",
       "      <td>0</td>\n",
       "      <td>0</td>\n",
       "      <td>0</td>\n",
       "      <td>0</td>\n",
       "      <td>0</td>\n",
       "      <td>0</td>\n",
       "      <td>0</td>\n",
       "      <td>0</td>\n",
       "      <td>0</td>\n",
       "    </tr>\n",
       "    <tr>\n",
       "      <th>4</th>\n",
       "      <td>0</td>\n",
       "      <td>0</td>\n",
       "      <td>0</td>\n",
       "      <td>0</td>\n",
       "      <td>0</td>\n",
       "      <td>0</td>\n",
       "      <td>0</td>\n",
       "      <td>0</td>\n",
       "      <td>0</td>\n",
       "      <td>0</td>\n",
       "      <td>...</td>\n",
       "      <td>0</td>\n",
       "      <td>0</td>\n",
       "      <td>0</td>\n",
       "      <td>0</td>\n",
       "      <td>0</td>\n",
       "      <td>0</td>\n",
       "      <td>0</td>\n",
       "      <td>0</td>\n",
       "      <td>0</td>\n",
       "      <td>0</td>\n",
       "    </tr>\n",
       "  </tbody>\n",
       "</table>\n",
       "<p>5 rows × 784 columns</p>\n",
       "</div>"
      ],
      "text/plain": [
       "   pixel0  pixel1  pixel2  pixel3  pixel4  pixel5  pixel6  pixel7  pixel8  \\\n",
       "0       0       0       0       0       0       0       0       0       0   \n",
       "1       0       0       0       0       0       0       0       0       0   \n",
       "2       0       0       0       0       0       0       0       0       0   \n",
       "3       0       0       0       0       0       0       0       0       0   \n",
       "4       0       0       0       0       0       0       0       0       0   \n",
       "\n",
       "   pixel9  ...  pixel774  pixel775  pixel776  pixel777  pixel778  pixel779  \\\n",
       "0       0  ...         0         0         0         0         0         0   \n",
       "1       0  ...         0         0         0         0         0         0   \n",
       "2       0  ...         0         0         0         0         0         0   \n",
       "3       0  ...         0         0         0         0         0         0   \n",
       "4       0  ...         0         0         0         0         0         0   \n",
       "\n",
       "   pixel780  pixel781  pixel782  pixel783  \n",
       "0         0         0         0         0  \n",
       "1         0         0         0         0  \n",
       "2         0         0         0         0  \n",
       "3         0         0         0         0  \n",
       "4         0         0         0         0  \n",
       "\n",
       "[5 rows x 784 columns]"
      ]
     },
     "execution_count": 9,
     "metadata": {},
     "output_type": "execute_result"
    }
   ],
   "source": [
    "test.head()  # first 5 datas"
   ]
  },
  {
   "cell_type": "code",
   "execution_count": 10,
   "metadata": {},
   "outputs": [
    {
     "data": {
      "text/plain": [
       "0"
      ]
     },
     "execution_count": 10,
     "metadata": {},
     "output_type": "execute_result"
    }
   ],
   "source": [
    "train.isnull().sum().sum()"
   ]
  },
  {
   "cell_type": "code",
   "execution_count": 11,
   "metadata": {},
   "outputs": [
    {
     "data": {
      "text/plain": [
       "0"
      ]
     },
     "execution_count": 11,
     "metadata": {},
     "output_type": "execute_result"
    }
   ],
   "source": [
    "test.isnull().sum().sum()"
   ]
  },
  {
   "cell_type": "code",
   "execution_count": 12,
   "metadata": {
    "collapsed": true
   },
   "outputs": [
    {
     "data": {
      "text/html": [
       "<div>\n",
       "<style scoped>\n",
       "    .dataframe tbody tr th:only-of-type {\n",
       "        vertical-align: middle;\n",
       "    }\n",
       "\n",
       "    .dataframe tbody tr th {\n",
       "        vertical-align: top;\n",
       "    }\n",
       "\n",
       "    .dataframe thead th {\n",
       "        text-align: right;\n",
       "    }\n",
       "</style>\n",
       "<table border=\"1\" class=\"dataframe\">\n",
       "  <thead>\n",
       "    <tr style=\"text-align: right;\">\n",
       "      <th></th>\n",
       "      <th>label</th>\n",
       "      <th>pixel0</th>\n",
       "      <th>pixel1</th>\n",
       "      <th>pixel2</th>\n",
       "      <th>pixel3</th>\n",
       "      <th>pixel4</th>\n",
       "      <th>pixel5</th>\n",
       "      <th>pixel6</th>\n",
       "      <th>pixel7</th>\n",
       "      <th>pixel8</th>\n",
       "      <th>...</th>\n",
       "      <th>pixel774</th>\n",
       "      <th>pixel775</th>\n",
       "      <th>pixel776</th>\n",
       "      <th>pixel777</th>\n",
       "      <th>pixel778</th>\n",
       "      <th>pixel779</th>\n",
       "      <th>pixel780</th>\n",
       "      <th>pixel781</th>\n",
       "      <th>pixel782</th>\n",
       "      <th>pixel783</th>\n",
       "    </tr>\n",
       "  </thead>\n",
       "  <tbody>\n",
       "    <tr>\n",
       "      <th>count</th>\n",
       "      <td>42000.000000</td>\n",
       "      <td>42000.0</td>\n",
       "      <td>42000.0</td>\n",
       "      <td>42000.0</td>\n",
       "      <td>42000.0</td>\n",
       "      <td>42000.0</td>\n",
       "      <td>42000.0</td>\n",
       "      <td>42000.0</td>\n",
       "      <td>42000.0</td>\n",
       "      <td>42000.0</td>\n",
       "      <td>...</td>\n",
       "      <td>42000.000000</td>\n",
       "      <td>42000.000000</td>\n",
       "      <td>42000.000000</td>\n",
       "      <td>42000.00000</td>\n",
       "      <td>42000.000000</td>\n",
       "      <td>42000.000000</td>\n",
       "      <td>42000.0</td>\n",
       "      <td>42000.0</td>\n",
       "      <td>42000.0</td>\n",
       "      <td>42000.0</td>\n",
       "    </tr>\n",
       "    <tr>\n",
       "      <th>mean</th>\n",
       "      <td>4.456643</td>\n",
       "      <td>0.0</td>\n",
       "      <td>0.0</td>\n",
       "      <td>0.0</td>\n",
       "      <td>0.0</td>\n",
       "      <td>0.0</td>\n",
       "      <td>0.0</td>\n",
       "      <td>0.0</td>\n",
       "      <td>0.0</td>\n",
       "      <td>0.0</td>\n",
       "      <td>...</td>\n",
       "      <td>0.219286</td>\n",
       "      <td>0.117095</td>\n",
       "      <td>0.059024</td>\n",
       "      <td>0.02019</td>\n",
       "      <td>0.017238</td>\n",
       "      <td>0.002857</td>\n",
       "      <td>0.0</td>\n",
       "      <td>0.0</td>\n",
       "      <td>0.0</td>\n",
       "      <td>0.0</td>\n",
       "    </tr>\n",
       "    <tr>\n",
       "      <th>std</th>\n",
       "      <td>2.887730</td>\n",
       "      <td>0.0</td>\n",
       "      <td>0.0</td>\n",
       "      <td>0.0</td>\n",
       "      <td>0.0</td>\n",
       "      <td>0.0</td>\n",
       "      <td>0.0</td>\n",
       "      <td>0.0</td>\n",
       "      <td>0.0</td>\n",
       "      <td>0.0</td>\n",
       "      <td>...</td>\n",
       "      <td>6.312890</td>\n",
       "      <td>4.633819</td>\n",
       "      <td>3.274488</td>\n",
       "      <td>1.75987</td>\n",
       "      <td>1.894498</td>\n",
       "      <td>0.414264</td>\n",
       "      <td>0.0</td>\n",
       "      <td>0.0</td>\n",
       "      <td>0.0</td>\n",
       "      <td>0.0</td>\n",
       "    </tr>\n",
       "    <tr>\n",
       "      <th>min</th>\n",
       "      <td>0.000000</td>\n",
       "      <td>0.0</td>\n",
       "      <td>0.0</td>\n",
       "      <td>0.0</td>\n",
       "      <td>0.0</td>\n",
       "      <td>0.0</td>\n",
       "      <td>0.0</td>\n",
       "      <td>0.0</td>\n",
       "      <td>0.0</td>\n",
       "      <td>0.0</td>\n",
       "      <td>...</td>\n",
       "      <td>0.000000</td>\n",
       "      <td>0.000000</td>\n",
       "      <td>0.000000</td>\n",
       "      <td>0.00000</td>\n",
       "      <td>0.000000</td>\n",
       "      <td>0.000000</td>\n",
       "      <td>0.0</td>\n",
       "      <td>0.0</td>\n",
       "      <td>0.0</td>\n",
       "      <td>0.0</td>\n",
       "    </tr>\n",
       "    <tr>\n",
       "      <th>25%</th>\n",
       "      <td>2.000000</td>\n",
       "      <td>0.0</td>\n",
       "      <td>0.0</td>\n",
       "      <td>0.0</td>\n",
       "      <td>0.0</td>\n",
       "      <td>0.0</td>\n",
       "      <td>0.0</td>\n",
       "      <td>0.0</td>\n",
       "      <td>0.0</td>\n",
       "      <td>0.0</td>\n",
       "      <td>...</td>\n",
       "      <td>0.000000</td>\n",
       "      <td>0.000000</td>\n",
       "      <td>0.000000</td>\n",
       "      <td>0.00000</td>\n",
       "      <td>0.000000</td>\n",
       "      <td>0.000000</td>\n",
       "      <td>0.0</td>\n",
       "      <td>0.0</td>\n",
       "      <td>0.0</td>\n",
       "      <td>0.0</td>\n",
       "    </tr>\n",
       "    <tr>\n",
       "      <th>50%</th>\n",
       "      <td>4.000000</td>\n",
       "      <td>0.0</td>\n",
       "      <td>0.0</td>\n",
       "      <td>0.0</td>\n",
       "      <td>0.0</td>\n",
       "      <td>0.0</td>\n",
       "      <td>0.0</td>\n",
       "      <td>0.0</td>\n",
       "      <td>0.0</td>\n",
       "      <td>0.0</td>\n",
       "      <td>...</td>\n",
       "      <td>0.000000</td>\n",
       "      <td>0.000000</td>\n",
       "      <td>0.000000</td>\n",
       "      <td>0.00000</td>\n",
       "      <td>0.000000</td>\n",
       "      <td>0.000000</td>\n",
       "      <td>0.0</td>\n",
       "      <td>0.0</td>\n",
       "      <td>0.0</td>\n",
       "      <td>0.0</td>\n",
       "    </tr>\n",
       "    <tr>\n",
       "      <th>75%</th>\n",
       "      <td>7.000000</td>\n",
       "      <td>0.0</td>\n",
       "      <td>0.0</td>\n",
       "      <td>0.0</td>\n",
       "      <td>0.0</td>\n",
       "      <td>0.0</td>\n",
       "      <td>0.0</td>\n",
       "      <td>0.0</td>\n",
       "      <td>0.0</td>\n",
       "      <td>0.0</td>\n",
       "      <td>...</td>\n",
       "      <td>0.000000</td>\n",
       "      <td>0.000000</td>\n",
       "      <td>0.000000</td>\n",
       "      <td>0.00000</td>\n",
       "      <td>0.000000</td>\n",
       "      <td>0.000000</td>\n",
       "      <td>0.0</td>\n",
       "      <td>0.0</td>\n",
       "      <td>0.0</td>\n",
       "      <td>0.0</td>\n",
       "    </tr>\n",
       "    <tr>\n",
       "      <th>max</th>\n",
       "      <td>9.000000</td>\n",
       "      <td>0.0</td>\n",
       "      <td>0.0</td>\n",
       "      <td>0.0</td>\n",
       "      <td>0.0</td>\n",
       "      <td>0.0</td>\n",
       "      <td>0.0</td>\n",
       "      <td>0.0</td>\n",
       "      <td>0.0</td>\n",
       "      <td>0.0</td>\n",
       "      <td>...</td>\n",
       "      <td>254.000000</td>\n",
       "      <td>254.000000</td>\n",
       "      <td>253.000000</td>\n",
       "      <td>253.00000</td>\n",
       "      <td>254.000000</td>\n",
       "      <td>62.000000</td>\n",
       "      <td>0.0</td>\n",
       "      <td>0.0</td>\n",
       "      <td>0.0</td>\n",
       "      <td>0.0</td>\n",
       "    </tr>\n",
       "  </tbody>\n",
       "</table>\n",
       "<p>8 rows × 785 columns</p>\n",
       "</div>"
      ],
      "text/plain": [
       "              label   pixel0   pixel1   pixel2   pixel3   pixel4   pixel5  \\\n",
       "count  42000.000000  42000.0  42000.0  42000.0  42000.0  42000.0  42000.0   \n",
       "mean       4.456643      0.0      0.0      0.0      0.0      0.0      0.0   \n",
       "std        2.887730      0.0      0.0      0.0      0.0      0.0      0.0   \n",
       "min        0.000000      0.0      0.0      0.0      0.0      0.0      0.0   \n",
       "25%        2.000000      0.0      0.0      0.0      0.0      0.0      0.0   \n",
       "50%        4.000000      0.0      0.0      0.0      0.0      0.0      0.0   \n",
       "75%        7.000000      0.0      0.0      0.0      0.0      0.0      0.0   \n",
       "max        9.000000      0.0      0.0      0.0      0.0      0.0      0.0   \n",
       "\n",
       "        pixel6   pixel7   pixel8  ...      pixel774      pixel775  \\\n",
       "count  42000.0  42000.0  42000.0  ...  42000.000000  42000.000000   \n",
       "mean       0.0      0.0      0.0  ...      0.219286      0.117095   \n",
       "std        0.0      0.0      0.0  ...      6.312890      4.633819   \n",
       "min        0.0      0.0      0.0  ...      0.000000      0.000000   \n",
       "25%        0.0      0.0      0.0  ...      0.000000      0.000000   \n",
       "50%        0.0      0.0      0.0  ...      0.000000      0.000000   \n",
       "75%        0.0      0.0      0.0  ...      0.000000      0.000000   \n",
       "max        0.0      0.0      0.0  ...    254.000000    254.000000   \n",
       "\n",
       "           pixel776     pixel777      pixel778      pixel779  pixel780  \\\n",
       "count  42000.000000  42000.00000  42000.000000  42000.000000   42000.0   \n",
       "mean       0.059024      0.02019      0.017238      0.002857       0.0   \n",
       "std        3.274488      1.75987      1.894498      0.414264       0.0   \n",
       "min        0.000000      0.00000      0.000000      0.000000       0.0   \n",
       "25%        0.000000      0.00000      0.000000      0.000000       0.0   \n",
       "50%        0.000000      0.00000      0.000000      0.000000       0.0   \n",
       "75%        0.000000      0.00000      0.000000      0.000000       0.0   \n",
       "max      253.000000    253.00000    254.000000     62.000000       0.0   \n",
       "\n",
       "       pixel781  pixel782  pixel783  \n",
       "count   42000.0   42000.0   42000.0  \n",
       "mean        0.0       0.0       0.0  \n",
       "std         0.0       0.0       0.0  \n",
       "min         0.0       0.0       0.0  \n",
       "25%         0.0       0.0       0.0  \n",
       "50%         0.0       0.0       0.0  \n",
       "75%         0.0       0.0       0.0  \n",
       "max         0.0       0.0       0.0  \n",
       "\n",
       "[8 rows x 785 columns]"
      ]
     },
     "execution_count": 12,
     "metadata": {},
     "output_type": "execute_result"
    }
   ],
   "source": [
    "train.describe()"
   ]
  },
  {
   "cell_type": "code",
   "execution_count": 13,
   "metadata": {
    "collapsed": true
   },
   "outputs": [
    {
     "data": {
      "text/html": [
       "<div>\n",
       "<style scoped>\n",
       "    .dataframe tbody tr th:only-of-type {\n",
       "        vertical-align: middle;\n",
       "    }\n",
       "\n",
       "    .dataframe tbody tr th {\n",
       "        vertical-align: top;\n",
       "    }\n",
       "\n",
       "    .dataframe thead th {\n",
       "        text-align: right;\n",
       "    }\n",
       "</style>\n",
       "<table border=\"1\" class=\"dataframe\">\n",
       "  <thead>\n",
       "    <tr style=\"text-align: right;\">\n",
       "      <th></th>\n",
       "      <th>pixel0</th>\n",
       "      <th>pixel1</th>\n",
       "      <th>pixel2</th>\n",
       "      <th>pixel3</th>\n",
       "      <th>pixel4</th>\n",
       "      <th>pixel5</th>\n",
       "      <th>pixel6</th>\n",
       "      <th>pixel7</th>\n",
       "      <th>pixel8</th>\n",
       "      <th>pixel9</th>\n",
       "      <th>...</th>\n",
       "      <th>pixel774</th>\n",
       "      <th>pixel775</th>\n",
       "      <th>pixel776</th>\n",
       "      <th>pixel777</th>\n",
       "      <th>pixel778</th>\n",
       "      <th>pixel779</th>\n",
       "      <th>pixel780</th>\n",
       "      <th>pixel781</th>\n",
       "      <th>pixel782</th>\n",
       "      <th>pixel783</th>\n",
       "    </tr>\n",
       "  </thead>\n",
       "  <tbody>\n",
       "    <tr>\n",
       "      <th>count</th>\n",
       "      <td>28000.0</td>\n",
       "      <td>28000.0</td>\n",
       "      <td>28000.0</td>\n",
       "      <td>28000.0</td>\n",
       "      <td>28000.0</td>\n",
       "      <td>28000.0</td>\n",
       "      <td>28000.0</td>\n",
       "      <td>28000.0</td>\n",
       "      <td>28000.0</td>\n",
       "      <td>28000.0</td>\n",
       "      <td>...</td>\n",
       "      <td>28000.000000</td>\n",
       "      <td>28000.000000</td>\n",
       "      <td>28000.000000</td>\n",
       "      <td>28000.000000</td>\n",
       "      <td>28000.000000</td>\n",
       "      <td>28000.0</td>\n",
       "      <td>28000.0</td>\n",
       "      <td>28000.0</td>\n",
       "      <td>28000.0</td>\n",
       "      <td>28000.0</td>\n",
       "    </tr>\n",
       "    <tr>\n",
       "      <th>mean</th>\n",
       "      <td>0.0</td>\n",
       "      <td>0.0</td>\n",
       "      <td>0.0</td>\n",
       "      <td>0.0</td>\n",
       "      <td>0.0</td>\n",
       "      <td>0.0</td>\n",
       "      <td>0.0</td>\n",
       "      <td>0.0</td>\n",
       "      <td>0.0</td>\n",
       "      <td>0.0</td>\n",
       "      <td>...</td>\n",
       "      <td>0.164607</td>\n",
       "      <td>0.073214</td>\n",
       "      <td>0.028036</td>\n",
       "      <td>0.011250</td>\n",
       "      <td>0.006536</td>\n",
       "      <td>0.0</td>\n",
       "      <td>0.0</td>\n",
       "      <td>0.0</td>\n",
       "      <td>0.0</td>\n",
       "      <td>0.0</td>\n",
       "    </tr>\n",
       "    <tr>\n",
       "      <th>std</th>\n",
       "      <td>0.0</td>\n",
       "      <td>0.0</td>\n",
       "      <td>0.0</td>\n",
       "      <td>0.0</td>\n",
       "      <td>0.0</td>\n",
       "      <td>0.0</td>\n",
       "      <td>0.0</td>\n",
       "      <td>0.0</td>\n",
       "      <td>0.0</td>\n",
       "      <td>0.0</td>\n",
       "      <td>...</td>\n",
       "      <td>5.473293</td>\n",
       "      <td>3.616811</td>\n",
       "      <td>1.813602</td>\n",
       "      <td>1.205211</td>\n",
       "      <td>0.807475</td>\n",
       "      <td>0.0</td>\n",
       "      <td>0.0</td>\n",
       "      <td>0.0</td>\n",
       "      <td>0.0</td>\n",
       "      <td>0.0</td>\n",
       "    </tr>\n",
       "    <tr>\n",
       "      <th>min</th>\n",
       "      <td>0.0</td>\n",
       "      <td>0.0</td>\n",
       "      <td>0.0</td>\n",
       "      <td>0.0</td>\n",
       "      <td>0.0</td>\n",
       "      <td>0.0</td>\n",
       "      <td>0.0</td>\n",
       "      <td>0.0</td>\n",
       "      <td>0.0</td>\n",
       "      <td>0.0</td>\n",
       "      <td>...</td>\n",
       "      <td>0.000000</td>\n",
       "      <td>0.000000</td>\n",
       "      <td>0.000000</td>\n",
       "      <td>0.000000</td>\n",
       "      <td>0.000000</td>\n",
       "      <td>0.0</td>\n",
       "      <td>0.0</td>\n",
       "      <td>0.0</td>\n",
       "      <td>0.0</td>\n",
       "      <td>0.0</td>\n",
       "    </tr>\n",
       "    <tr>\n",
       "      <th>25%</th>\n",
       "      <td>0.0</td>\n",
       "      <td>0.0</td>\n",
       "      <td>0.0</td>\n",
       "      <td>0.0</td>\n",
       "      <td>0.0</td>\n",
       "      <td>0.0</td>\n",
       "      <td>0.0</td>\n",
       "      <td>0.0</td>\n",
       "      <td>0.0</td>\n",
       "      <td>0.0</td>\n",
       "      <td>...</td>\n",
       "      <td>0.000000</td>\n",
       "      <td>0.000000</td>\n",
       "      <td>0.000000</td>\n",
       "      <td>0.000000</td>\n",
       "      <td>0.000000</td>\n",
       "      <td>0.0</td>\n",
       "      <td>0.0</td>\n",
       "      <td>0.0</td>\n",
       "      <td>0.0</td>\n",
       "      <td>0.0</td>\n",
       "    </tr>\n",
       "    <tr>\n",
       "      <th>50%</th>\n",
       "      <td>0.0</td>\n",
       "      <td>0.0</td>\n",
       "      <td>0.0</td>\n",
       "      <td>0.0</td>\n",
       "      <td>0.0</td>\n",
       "      <td>0.0</td>\n",
       "      <td>0.0</td>\n",
       "      <td>0.0</td>\n",
       "      <td>0.0</td>\n",
       "      <td>0.0</td>\n",
       "      <td>...</td>\n",
       "      <td>0.000000</td>\n",
       "      <td>0.000000</td>\n",
       "      <td>0.000000</td>\n",
       "      <td>0.000000</td>\n",
       "      <td>0.000000</td>\n",
       "      <td>0.0</td>\n",
       "      <td>0.0</td>\n",
       "      <td>0.0</td>\n",
       "      <td>0.0</td>\n",
       "      <td>0.0</td>\n",
       "    </tr>\n",
       "    <tr>\n",
       "      <th>75%</th>\n",
       "      <td>0.0</td>\n",
       "      <td>0.0</td>\n",
       "      <td>0.0</td>\n",
       "      <td>0.0</td>\n",
       "      <td>0.0</td>\n",
       "      <td>0.0</td>\n",
       "      <td>0.0</td>\n",
       "      <td>0.0</td>\n",
       "      <td>0.0</td>\n",
       "      <td>0.0</td>\n",
       "      <td>...</td>\n",
       "      <td>0.000000</td>\n",
       "      <td>0.000000</td>\n",
       "      <td>0.000000</td>\n",
       "      <td>0.000000</td>\n",
       "      <td>0.000000</td>\n",
       "      <td>0.0</td>\n",
       "      <td>0.0</td>\n",
       "      <td>0.0</td>\n",
       "      <td>0.0</td>\n",
       "      <td>0.0</td>\n",
       "    </tr>\n",
       "    <tr>\n",
       "      <th>max</th>\n",
       "      <td>0.0</td>\n",
       "      <td>0.0</td>\n",
       "      <td>0.0</td>\n",
       "      <td>0.0</td>\n",
       "      <td>0.0</td>\n",
       "      <td>0.0</td>\n",
       "      <td>0.0</td>\n",
       "      <td>0.0</td>\n",
       "      <td>0.0</td>\n",
       "      <td>0.0</td>\n",
       "      <td>...</td>\n",
       "      <td>253.000000</td>\n",
       "      <td>254.000000</td>\n",
       "      <td>193.000000</td>\n",
       "      <td>187.000000</td>\n",
       "      <td>119.000000</td>\n",
       "      <td>0.0</td>\n",
       "      <td>0.0</td>\n",
       "      <td>0.0</td>\n",
       "      <td>0.0</td>\n",
       "      <td>0.0</td>\n",
       "    </tr>\n",
       "  </tbody>\n",
       "</table>\n",
       "<p>8 rows × 784 columns</p>\n",
       "</div>"
      ],
      "text/plain": [
       "        pixel0   pixel1   pixel2   pixel3   pixel4   pixel5   pixel6   pixel7  \\\n",
       "count  28000.0  28000.0  28000.0  28000.0  28000.0  28000.0  28000.0  28000.0   \n",
       "mean       0.0      0.0      0.0      0.0      0.0      0.0      0.0      0.0   \n",
       "std        0.0      0.0      0.0      0.0      0.0      0.0      0.0      0.0   \n",
       "min        0.0      0.0      0.0      0.0      0.0      0.0      0.0      0.0   \n",
       "25%        0.0      0.0      0.0      0.0      0.0      0.0      0.0      0.0   \n",
       "50%        0.0      0.0      0.0      0.0      0.0      0.0      0.0      0.0   \n",
       "75%        0.0      0.0      0.0      0.0      0.0      0.0      0.0      0.0   \n",
       "max        0.0      0.0      0.0      0.0      0.0      0.0      0.0      0.0   \n",
       "\n",
       "        pixel8   pixel9  ...      pixel774      pixel775      pixel776  \\\n",
       "count  28000.0  28000.0  ...  28000.000000  28000.000000  28000.000000   \n",
       "mean       0.0      0.0  ...      0.164607      0.073214      0.028036   \n",
       "std        0.0      0.0  ...      5.473293      3.616811      1.813602   \n",
       "min        0.0      0.0  ...      0.000000      0.000000      0.000000   \n",
       "25%        0.0      0.0  ...      0.000000      0.000000      0.000000   \n",
       "50%        0.0      0.0  ...      0.000000      0.000000      0.000000   \n",
       "75%        0.0      0.0  ...      0.000000      0.000000      0.000000   \n",
       "max        0.0      0.0  ...    253.000000    254.000000    193.000000   \n",
       "\n",
       "           pixel777      pixel778  pixel779  pixel780  pixel781  pixel782  \\\n",
       "count  28000.000000  28000.000000   28000.0   28000.0   28000.0   28000.0   \n",
       "mean       0.011250      0.006536       0.0       0.0       0.0       0.0   \n",
       "std        1.205211      0.807475       0.0       0.0       0.0       0.0   \n",
       "min        0.000000      0.000000       0.0       0.0       0.0       0.0   \n",
       "25%        0.000000      0.000000       0.0       0.0       0.0       0.0   \n",
       "50%        0.000000      0.000000       0.0       0.0       0.0       0.0   \n",
       "75%        0.000000      0.000000       0.0       0.0       0.0       0.0   \n",
       "max      187.000000    119.000000       0.0       0.0       0.0       0.0   \n",
       "\n",
       "       pixel783  \n",
       "count   28000.0  \n",
       "mean        0.0  \n",
       "std         0.0  \n",
       "min         0.0  \n",
       "25%         0.0  \n",
       "50%         0.0  \n",
       "75%         0.0  \n",
       "max         0.0  \n",
       "\n",
       "[8 rows x 784 columns]"
      ]
     },
     "execution_count": 13,
     "metadata": {},
     "output_type": "execute_result"
    }
   ],
   "source": [
    "test.describe()"
   ]
  },
  {
   "cell_type": "markdown",
   "metadata": {},
   "source": [
    "## 3.2 Exploring data with Categorical Features\n",
    "### barchart"
   ]
  },
  {
   "cell_type": "code",
   "execution_count": 14,
   "metadata": {},
   "outputs": [
    {
     "data": {
      "text/plain": [
       "<matplotlib.axes._subplots.AxesSubplot at 0x26e30cd4898>"
      ]
     },
     "execution_count": 14,
     "metadata": {},
     "output_type": "execute_result"
    },
    {
     "data": {
      "image/png": "[encoded data removed]",
      "text/plain": [
       "<Figure size 432x288 with 1 Axes>"
      ]
     },
     "metadata": {
      "needs_background": "light"
     },
     "output_type": "display_data"
    }
   ],
   "source": [
    "sns.countplot(x=\"label\", data=train)"
   ]
  },
  {
   "cell_type": "markdown",
   "metadata": {},
   "source": [
    "The chart shows the data is balance."
   ]
  },
  {
   "cell_type": "code",
   "execution_count": 41,
   "metadata": {},
   "outputs": [
    {
     "data": {
      "image/png": "[encoded data removed]",
      "text/plain": [
       "<Figure size 432x288 with 1 Axes>"
      ]
     },
     "metadata": {
      "needs_background": "light"
     },
     "output_type": "display_data"
    },
    {
     "data": {
      "image/png": "[encoded data removed]",
      "text/plain": [
       "<Figure size 432x288 with 1 Axes>"
      ]
     },
     "metadata": {
      "needs_background": "light"
     },
     "output_type": "display_data"
    },
    {
     "data": {
      "image/png": "[encoded data removed]",
      "text/plain": [
       "<Figure size 432x288 with 1 Axes>"
      ]
     },
     "metadata": {
      "needs_background": "light"
     },
     "output_type": "display_data"
    },
    {
     "data": {
      "image/png": "[encoded data removed]",
      "text/plain": [
       "<Figure size 432x288 with 1 Axes>"
      ]
     },
     "metadata": {
      "needs_background": "light"
     },
     "output_type": "display_data"
    },
    {
     "data": {
      "image/png": "[encoded data removed]",
      "text/plain": [
       "<Figure size 432x288 with 1 Axes>"
      ]
     },
     "metadata": {
      "needs_background": "light"
     },
     "output_type": "display_data"
    },
    {
     "data": {
      "image/png": "[encoded data removed]",
      "text/plain": [
       "<Figure size 432x288 with 1 Axes>"
      ]
     },
     "metadata": {
      "needs_background": "light"
     },
     "output_type": "display_data"
    },
    {
     "data": {
      "image/png": "[encoded data removed]",
      "text/plain": [
       "<Figure size 432x288 with 1 Axes>"
      ]
     },
     "metadata": {
      "needs_background": "light"
     },
     "output_type": "display_data"
    },
    {
     "data": {
      "image/png": "[encoded data removed]",
      "text/plain": [
       "<Figure size 432x288 with 1 Axes>"
      ]
     },
     "metadata": {
      "needs_background": "light"
     },
     "output_type": "display_data"
    },
    {
     "data": {
      "image/png": "[encoded data removed]",
      "text/plain": [
       "<Figure size 432x288 with 1 Axes>"
      ]
     },
     "metadata": {
      "needs_background": "light"
     },
     "output_type": "display_data"
    },
    {
     "data": {
      "image/png": "[encoded data removed]",
      "text/plain": [
       "<Figure size 432x288 with 1 Axes>"
      ]
     },
     "metadata": {
      "needs_background": "light"
     },
     "output_type": "display_data"
    },
    {
     "data": {
      "image/png": "[encoded data removed]",
      "text/plain": [
       "<Figure size 432x288 with 1 Axes>"
      ]
     },
     "metadata": {
      "needs_background": "light"
     },
     "output_type": "display_data"
    },
    {
     "data": {
      "image/png": "[encoded data removed]",
      "text/plain": [
       "<Figure size 432x288 with 1 Axes>"
      ]
     },
     "metadata": {
      "needs_background": "light"
     },
     "output_type": "display_data"
    },
    {
     "data": {
      "image/png": "[encoded data removed]",
      "text/plain": [
       "<Figure size 432x288 with 1 Axes>"
      ]
     },
     "metadata": {
      "needs_background": "light"
     },
     "output_type": "display_data"
    },
    {
     "data": {
      "image/png": "[encoded data removed]",
      "text/plain": [
       "<Figure size 432x288 with 1 Axes>"
      ]
     },
     "metadata": {
      "needs_background": "light"
     },
     "output_type": "display_data"
    },
    {
     "data": {
      "image/png": "[encoded data removed]",
      "text/plain": [
       "<Figure size 432x288 with 1 Axes>"
      ]
     },
     "metadata": {
      "needs_background": "light"
     },
     "output_type": "display_data"
    },
    {
     "data": {
      "image/png": "[encoded data removed]",
      "text/plain": [
       "<Figure size 432x288 with 1 Axes>"
      ]
     },
     "metadata": {
      "needs_background": "light"
     },
     "output_type": "display_data"
    },
    {
     "data": {
      "image/png": "[encoded data removed]",
      "text/plain": [
       "<Figure size 432x288 with 1 Axes>"
      ]
     },
     "metadata": {
      "needs_background": "light"
     },
     "output_type": "display_data"
    },
    {
     "data": {
      "image/png": "[encoded data removed]",
      "text/plain": [
       "<Figure size 432x288 with 1 Axes>"
      ]
     },
     "metadata": {
      "needs_background": "light"
     },
     "output_type": "display_data"
    },
    {
     "data": {
      "image/png": "[encoded data removed]",
      "text/plain": [
       "<Figure size 432x288 with 1 Axes>"
      ]
     },
     "metadata": {
      "needs_background": "light"
     },
     "output_type": "display_data"
    },
    {
     "data": {
      "image/png": "[encoded data removed]",
      "text/plain": [
       "<Figure size 432x288 with 1 Axes>"
      ]
     },
     "metadata": {
      "needs_background": "light"
     },
     "output_type": "display_data"
    }
   ],
   "source": [
    "X_train = train.values[0:,1:]\n",
    "for i in range(20):\n",
    "    plt.imshow(X_train[i].reshape(28,28), cmap='gray') # 用array,不能dataframe\n",
    "    plt.show()"
   ]
  },
  {
   "cell_type": "markdown",
   "metadata": {},
   "source": [
    "# 4. Feature engineering"
   ]
  },
  {
   "cell_type": "code",
   "execution_count": 16,
   "metadata": {},
   "outputs": [],
   "source": [
    "train_x = train.drop('label', axis=1)\n",
    "train_y = train['label']\n",
    "test_x = test"
   ]
  },
  {
   "cell_type": "markdown",
   "metadata": {},
   "source": [
    "## 4.1 deskewing images\n",
    "https://fsix.github.io/mnist/Deskewing.html"
   ]
  },
  {
   "cell_type": "markdown",
   "metadata": {},
   "source": [
    "### functions used for deskewing"
   ]
  },
  {
   "cell_type": "code",
   "execution_count": 17,
   "metadata": {},
   "outputs": [],
   "source": [
    "# Function to first calculate moments of the image data, which is the first step to deskewing the image\n",
    "from scipy.ndimage import interpolation\n",
    "\n",
    "def moments(image):\n",
    "    c0,c1 = np.mgrid[:image.shape[0],:image.shape[1]] # A trick in numPy to create a mesh grid\n",
    "    totalImage = np.sum(image) #sum of pixels\n",
    "    m0 = np.sum(c0*image)/totalImage #mu_x\n",
    "    m1 = np.sum(c1*image)/totalImage #mu_y\n",
    "    m00 = np.sum((c0-m0)**2*image)/totalImage #var(x)\n",
    "    m11 = np.sum((c1-m1)**2*image)/totalImage #var(y)\n",
    "    m01 = np.sum((c0-m0)*(c1-m1)*image)/totalImage #covariance(x,y)\n",
    "    mu_vector = np.array([m0,m1]) # Notice that these are \\mu_x, \\mu_y respectively\n",
    "    covariance_matrix = np.array([[m00,m01],[m01,m11]]) # Do you see a similarity between the covariance matrix\n",
    "    return mu_vector, covariance_matrix"
   ]
  },
  {
   "cell_type": "code",
   "execution_count": 18,
   "metadata": {},
   "outputs": [],
   "source": [
    "# Function used for deskewing the image which internally first calls the moment function described above\n",
    "def deskew(image):\n",
    "    c,v = moments(image)\n",
    "    alpha = v[0,1]/v[0,0]\n",
    "    affine = np.array([[1,0],[alpha,1]])\n",
    "    ocenter = np.array(image.shape)/2.0\n",
    "    offset = c-np.dot(affine,ocenter)\n",
    "    return interpolation.affine_transform(image,affine,offset=offset)"
   ]
  },
  {
   "cell_type": "markdown",
   "metadata": {},
   "source": [
    "### deskewing training"
   ]
  },
  {
   "cell_type": "code",
   "execution_count": 19,
   "metadata": {},
   "outputs": [],
   "source": [
    "# Deskewing the data\n",
    "\n",
    "train_x_deskew = train_x.apply(lambda x: deskew(x.values.reshape(28,28)).flatten(),axis=1)"
   ]
  },
  {
   "cell_type": "code",
   "execution_count": 20,
   "metadata": {},
   "outputs": [],
   "source": [
    "# to dataframe\n",
    "train_x_deskew_df = train_x\n",
    "for i in range(42000):\n",
    "    train_x_deskew_df.iloc[i,:] = train_x_deskew[i]"
   ]
  },
  {
   "cell_type": "code",
   "execution_count": 21,
   "metadata": {},
   "outputs": [
    {
     "data": {
      "image/png": "[encoded data removed]",
      "text/plain": [
       "<Figure size 432x288 with 1 Axes>"
      ]
     },
     "metadata": {
      "needs_background": "light"
     },
     "output_type": "display_data"
    },
    {
     "data": {
      "image/png": "[encoded data removed]",
      "text/plain": [
       "<Figure size 432x288 with 1 Axes>"
      ]
     },
     "metadata": {
      "needs_background": "light"
     },
     "output_type": "display_data"
    },
    {
     "data": {
      "image/png": "[encoded data removed]",
      "text/plain": [
       "<Figure size 432x288 with 1 Axes>"
      ]
     },
     "metadata": {
      "needs_background": "light"
     },
     "output_type": "display_data"
    },
    {
     "data": {
      "image/png": "[encoded data removed]",
      "text/plain": [
       "<Figure size 432x288 with 1 Axes>"
      ]
     },
     "metadata": {
      "needs_background": "light"
     },
     "output_type": "display_data"
    },
    {
     "data": {
      "image/png": "[encoded data removed]",
      "text/plain": [
       "<Figure size 432x288 with 1 Axes>"
      ]
     },
     "metadata": {
      "needs_background": "light"
     },
     "output_type": "display_data"
    },
    {
     "data": {
      "image/png": "[encoded data removed]",
      "text/plain": [
       "<Figure size 432x288 with 1 Axes>"
      ]
     },
     "metadata": {
      "needs_background": "light"
     },
     "output_type": "display_data"
    },
    {
     "data": {
      "image/png": "[encoded data removed]",
      "text/plain": [
       "<Figure size 432x288 with 1 Axes>"
      ]
     },
     "metadata": {
      "needs_background": "light"
     },
     "output_type": "display_data"
    },
    {
     "data": {
      "image/png": "[encoded data removed]",
      "text/plain": [
       "<Figure size 432x288 with 1 Axes>"
      ]
     },
     "metadata": {
      "needs_background": "light"
     },
     "output_type": "display_data"
    },
    {
     "data": {
      "image/png": "[encoded data removed]",
      "text/plain": [
       "<Figure size 432x288 with 1 Axes>"
      ]
     },
     "metadata": {
      "needs_background": "light"
     },
     "output_type": "display_data"
    },
    {
     "data": {
      "image/png": "[encoded data removed]",
      "text/plain": [
       "<Figure size 432x288 with 1 Axes>"
      ]
     },
     "metadata": {
      "needs_background": "light"
     },
     "output_type": "display_data"
    },
    {
     "data": {
      "image/png": "[encoded data removed]",
      "text/plain": [
       "<Figure size 432x288 with 1 Axes>"
      ]
     },
     "metadata": {
      "needs_background": "light"
     },
     "output_type": "display_data"
    },
    {
     "data": {
      "image/png": "[encoded data removed]",
      "text/plain": [
       "<Figure size 432x288 with 1 Axes>"
      ]
     },
     "metadata": {
      "needs_background": "light"
     },
     "output_type": "display_data"
    },
    {
     "data": {
      "image/png": "[encoded data removed]",
      "text/plain": [
       "<Figure size 432x288 with 1 Axes>"
      ]
     },
     "metadata": {
      "needs_background": "light"
     },
     "output_type": "display_data"
    },
    {
     "data": {
      "image/png": "[encoded data removed]",
      "text/plain": [
       "<Figure size 432x288 with 1 Axes>"
      ]
     },
     "metadata": {
      "needs_background": "light"
     },
     "output_type": "display_data"
    },
    {
     "data": {
      "image/png": "[encoded data removed]",
      "text/plain": [
       "<Figure size 432x288 with 1 Axes>"
      ]
     },
     "metadata": {
      "needs_background": "light"
     },
     "output_type": "display_data"
    },
    {
     "data": {
      "image/png": "[encoded data removed]",
      "text/plain": [
       "<Figure size 432x288 with 1 Axes>"
      ]
     },
     "metadata": {
      "needs_background": "light"
     },
     "output_type": "display_data"
    },
    {
     "data": {
      "image/png": "[encoded data removed]",
      "text/plain": [
       "<Figure size 432x288 with 1 Axes>"
      ]
     },
     "metadata": {
      "needs_background": "light"
     },
     "output_type": "display_data"
    },
    {
     "data": {
      "image/png": "[encoded data removed]",
      "text/plain": [
       "<Figure size 432x288 with 1 Axes>"
      ]
     },
     "metadata": {
      "needs_background": "light"
     },
     "output_type": "display_data"
    },
    {
     "data": {
      "image/png": "[encoded data removed]",
      "text/plain": [
       "<Figure size 432x288 with 1 Axes>"
      ]
     },
     "metadata": {
      "needs_background": "light"
     },
     "output_type": "display_data"
    },
    {
     "data": {
      "image/png": "[encoded data removed]",
      "text/plain": [
       "<Figure size 432x288 with 1 Axes>"
      ]
     },
     "metadata": {
      "needs_background": "light"
     },
     "output_type": "display_data"
    }
   ],
   "source": [
    "for i in range(20):\n",
    "    plt.imshow(train_x_deskew_df.values[i].reshape(28,28), cmap='gray') # 用array,不能dataframe\n",
    "    plt.show()"
   ]
  },
  {
   "cell_type": "code",
   "execution_count": 22,
   "metadata": {},
   "outputs": [],
   "source": [
    "from sklearn import preprocessing\n",
    "minmax = preprocessing.MinMaxScaler()\n",
    "train_x_deskew_minmax = minmax.fit_transform(train_x_deskew_df)\n",
    "train_x_deskew_minmax = pd.DataFrame(train_x_deskew_minmax)"
   ]
  },
  {
   "cell_type": "code",
   "execution_count": 23,
   "metadata": {},
   "outputs": [
    {
     "data": {
      "text/plain": [
       "0"
      ]
     },
     "execution_count": 23,
     "metadata": {},
     "output_type": "execute_result"
    }
   ],
   "source": [
    "train_x_deskew_minmax.isnull().sum().sum()"
   ]
  },
  {
   "cell_type": "code",
   "execution_count": 24,
   "metadata": {},
   "outputs": [
    {
     "data": {
      "text/html": [
       "<div>\n",
       "<style scoped>\n",
       "    .dataframe tbody tr th:only-of-type {\n",
       "        vertical-align: middle;\n",
       "    }\n",
       "\n",
       "    .dataframe tbody tr th {\n",
       "        vertical-align: top;\n",
       "    }\n",
       "\n",
       "    .dataframe thead th {\n",
       "        text-align: right;\n",
       "    }\n",
       "</style>\n",
       "<table border=\"1\" class=\"dataframe\">\n",
       "  <thead>\n",
       "    <tr style=\"text-align: right;\">\n",
       "      <th></th>\n",
       "      <th>0</th>\n",
       "      <th>1</th>\n",
       "      <th>2</th>\n",
       "      <th>3</th>\n",
       "      <th>4</th>\n",
       "      <th>5</th>\n",
       "      <th>6</th>\n",
       "      <th>7</th>\n",
       "      <th>8</th>\n",
       "      <th>9</th>\n",
       "      <th>...</th>\n",
       "      <th>774</th>\n",
       "      <th>775</th>\n",
       "      <th>776</th>\n",
       "      <th>777</th>\n",
       "      <th>778</th>\n",
       "      <th>779</th>\n",
       "      <th>780</th>\n",
       "      <th>781</th>\n",
       "      <th>782</th>\n",
       "      <th>783</th>\n",
       "    </tr>\n",
       "  </thead>\n",
       "  <tbody>\n",
       "    <tr>\n",
       "      <th>count</th>\n",
       "      <td>42000.0</td>\n",
       "      <td>42000.0</td>\n",
       "      <td>42000.000000</td>\n",
       "      <td>42000.000000</td>\n",
       "      <td>42000.000000</td>\n",
       "      <td>42000.000000</td>\n",
       "      <td>42000.000000</td>\n",
       "      <td>42000.000000</td>\n",
       "      <td>42000.000000</td>\n",
       "      <td>42000.000000</td>\n",
       "      <td>...</td>\n",
       "      <td>42000.00000</td>\n",
       "      <td>42000.000000</td>\n",
       "      <td>42000.000000</td>\n",
       "      <td>42000.000000</td>\n",
       "      <td>42000.000000</td>\n",
       "      <td>42000.000000</td>\n",
       "      <td>42000.000000</td>\n",
       "      <td>42000.000000</td>\n",
       "      <td>42000.0</td>\n",
       "      <td>42000.0</td>\n",
       "    </tr>\n",
       "    <tr>\n",
       "      <th>mean</th>\n",
       "      <td>0.0</td>\n",
       "      <td>0.0</td>\n",
       "      <td>0.000024</td>\n",
       "      <td>0.000048</td>\n",
       "      <td>0.000048</td>\n",
       "      <td>0.333325</td>\n",
       "      <td>0.777738</td>\n",
       "      <td>0.769192</td>\n",
       "      <td>0.666637</td>\n",
       "      <td>0.799955</td>\n",
       "      <td>...</td>\n",
       "      <td>0.68742</td>\n",
       "      <td>0.684201</td>\n",
       "      <td>0.666638</td>\n",
       "      <td>0.761880</td>\n",
       "      <td>0.749999</td>\n",
       "      <td>0.846126</td>\n",
       "      <td>0.499988</td>\n",
       "      <td>0.000048</td>\n",
       "      <td>0.0</td>\n",
       "      <td>0.0</td>\n",
       "    </tr>\n",
       "    <tr>\n",
       "      <th>std</th>\n",
       "      <td>0.0</td>\n",
       "      <td>0.0</td>\n",
       "      <td>0.004880</td>\n",
       "      <td>0.006901</td>\n",
       "      <td>0.006901</td>\n",
       "      <td>0.004303</td>\n",
       "      <td>0.005172</td>\n",
       "      <td>0.006041</td>\n",
       "      <td>0.007397</td>\n",
       "      <td>0.008114</td>\n",
       "      <td>...</td>\n",
       "      <td>0.01644</td>\n",
       "      <td>0.008242</td>\n",
       "      <td>0.006438</td>\n",
       "      <td>0.005538</td>\n",
       "      <td>0.004595</td>\n",
       "      <td>0.004551</td>\n",
       "      <td>0.004226</td>\n",
       "      <td>0.006901</td>\n",
       "      <td>0.0</td>\n",
       "      <td>0.0</td>\n",
       "    </tr>\n",
       "    <tr>\n",
       "      <th>min</th>\n",
       "      <td>0.0</td>\n",
       "      <td>0.0</td>\n",
       "      <td>0.000000</td>\n",
       "      <td>0.000000</td>\n",
       "      <td>0.000000</td>\n",
       "      <td>0.000000</td>\n",
       "      <td>0.000000</td>\n",
       "      <td>0.000000</td>\n",
       "      <td>0.000000</td>\n",
       "      <td>0.000000</td>\n",
       "      <td>...</td>\n",
       "      <td>0.00000</td>\n",
       "      <td>0.000000</td>\n",
       "      <td>0.000000</td>\n",
       "      <td>0.000000</td>\n",
       "      <td>0.000000</td>\n",
       "      <td>0.000000</td>\n",
       "      <td>0.000000</td>\n",
       "      <td>0.000000</td>\n",
       "      <td>0.0</td>\n",
       "      <td>0.0</td>\n",
       "    </tr>\n",
       "    <tr>\n",
       "      <th>25%</th>\n",
       "      <td>0.0</td>\n",
       "      <td>0.0</td>\n",
       "      <td>0.000000</td>\n",
       "      <td>0.000000</td>\n",
       "      <td>0.000000</td>\n",
       "      <td>0.333333</td>\n",
       "      <td>0.777778</td>\n",
       "      <td>0.769231</td>\n",
       "      <td>0.666667</td>\n",
       "      <td>0.800000</td>\n",
       "      <td>...</td>\n",
       "      <td>0.68750</td>\n",
       "      <td>0.684211</td>\n",
       "      <td>0.666667</td>\n",
       "      <td>0.761905</td>\n",
       "      <td>0.750000</td>\n",
       "      <td>0.846154</td>\n",
       "      <td>0.500000</td>\n",
       "      <td>0.000000</td>\n",
       "      <td>0.0</td>\n",
       "      <td>0.0</td>\n",
       "    </tr>\n",
       "    <tr>\n",
       "      <th>50%</th>\n",
       "      <td>0.0</td>\n",
       "      <td>0.0</td>\n",
       "      <td>0.000000</td>\n",
       "      <td>0.000000</td>\n",
       "      <td>0.000000</td>\n",
       "      <td>0.333333</td>\n",
       "      <td>0.777778</td>\n",
       "      <td>0.769231</td>\n",
       "      <td>0.666667</td>\n",
       "      <td>0.800000</td>\n",
       "      <td>...</td>\n",
       "      <td>0.68750</td>\n",
       "      <td>0.684211</td>\n",
       "      <td>0.666667</td>\n",
       "      <td>0.761905</td>\n",
       "      <td>0.750000</td>\n",
       "      <td>0.846154</td>\n",
       "      <td>0.500000</td>\n",
       "      <td>0.000000</td>\n",
       "      <td>0.0</td>\n",
       "      <td>0.0</td>\n",
       "    </tr>\n",
       "    <tr>\n",
       "      <th>75%</th>\n",
       "      <td>0.0</td>\n",
       "      <td>0.0</td>\n",
       "      <td>0.000000</td>\n",
       "      <td>0.000000</td>\n",
       "      <td>0.000000</td>\n",
       "      <td>0.333333</td>\n",
       "      <td>0.777778</td>\n",
       "      <td>0.769231</td>\n",
       "      <td>0.666667</td>\n",
       "      <td>0.800000</td>\n",
       "      <td>...</td>\n",
       "      <td>0.68750</td>\n",
       "      <td>0.684211</td>\n",
       "      <td>0.666667</td>\n",
       "      <td>0.761905</td>\n",
       "      <td>0.750000</td>\n",
       "      <td>0.846154</td>\n",
       "      <td>0.500000</td>\n",
       "      <td>0.000000</td>\n",
       "      <td>0.0</td>\n",
       "      <td>0.0</td>\n",
       "    </tr>\n",
       "    <tr>\n",
       "      <th>max</th>\n",
       "      <td>0.0</td>\n",
       "      <td>0.0</td>\n",
       "      <td>1.000000</td>\n",
       "      <td>1.000000</td>\n",
       "      <td>1.000000</td>\n",
       "      <td>1.000000</td>\n",
       "      <td>1.000000</td>\n",
       "      <td>1.000000</td>\n",
       "      <td>1.000000</td>\n",
       "      <td>1.000000</td>\n",
       "      <td>...</td>\n",
       "      <td>1.00000</td>\n",
       "      <td>1.000000</td>\n",
       "      <td>1.000000</td>\n",
       "      <td>1.000000</td>\n",
       "      <td>1.000000</td>\n",
       "      <td>1.000000</td>\n",
       "      <td>1.000000</td>\n",
       "      <td>1.000000</td>\n",
       "      <td>0.0</td>\n",
       "      <td>0.0</td>\n",
       "    </tr>\n",
       "  </tbody>\n",
       "</table>\n",
       "<p>8 rows × 784 columns</p>\n",
       "</div>"
      ],
      "text/plain": [
       "           0        1             2             3             4    \\\n",
       "count  42000.0  42000.0  42000.000000  42000.000000  42000.000000   \n",
       "mean       0.0      0.0      0.000024      0.000048      0.000048   \n",
       "std        0.0      0.0      0.004880      0.006901      0.006901   \n",
       "min        0.0      0.0      0.000000      0.000000      0.000000   \n",
       "25%        0.0      0.0      0.000000      0.000000      0.000000   \n",
       "50%        0.0      0.0      0.000000      0.000000      0.000000   \n",
       "75%        0.0      0.0      0.000000      0.000000      0.000000   \n",
       "max        0.0      0.0      1.000000      1.000000      1.000000   \n",
       "\n",
       "                5             6             7             8             9    \\\n",
       "count  42000.000000  42000.000000  42000.000000  42000.000000  42000.000000   \n",
       "mean       0.333325      0.777738      0.769192      0.666637      0.799955   \n",
       "std        0.004303      0.005172      0.006041      0.007397      0.008114   \n",
       "min        0.000000      0.000000      0.000000      0.000000      0.000000   \n",
       "25%        0.333333      0.777778      0.769231      0.666667      0.800000   \n",
       "50%        0.333333      0.777778      0.769231      0.666667      0.800000   \n",
       "75%        0.333333      0.777778      0.769231      0.666667      0.800000   \n",
       "max        1.000000      1.000000      1.000000      1.000000      1.000000   \n",
       "\n",
       "       ...          774           775           776           777  \\\n",
       "count  ...  42000.00000  42000.000000  42000.000000  42000.000000   \n",
       "mean   ...      0.68742      0.684201      0.666638      0.761880   \n",
       "std    ...      0.01644      0.008242      0.006438      0.005538   \n",
       "min    ...      0.00000      0.000000      0.000000      0.000000   \n",
       "25%    ...      0.68750      0.684211      0.666667      0.761905   \n",
       "50%    ...      0.68750      0.684211      0.666667      0.761905   \n",
       "75%    ...      0.68750      0.684211      0.666667      0.761905   \n",
       "max    ...      1.00000      1.000000      1.000000      1.000000   \n",
       "\n",
       "                778           779           780           781      782  \\\n",
       "count  42000.000000  42000.000000  42000.000000  42000.000000  42000.0   \n",
       "mean       0.749999      0.846126      0.499988      0.000048      0.0   \n",
       "std        0.004595      0.004551      0.004226      0.006901      0.0   \n",
       "min        0.000000      0.000000      0.000000      0.000000      0.0   \n",
       "25%        0.750000      0.846154      0.500000      0.000000      0.0   \n",
       "50%        0.750000      0.846154      0.500000      0.000000      0.0   \n",
       "75%        0.750000      0.846154      0.500000      0.000000      0.0   \n",
       "max        1.000000      1.000000      1.000000      1.000000      0.0   \n",
       "\n",
       "           783  \n",
       "count  42000.0  \n",
       "mean       0.0  \n",
       "std        0.0  \n",
       "min        0.0  \n",
       "25%        0.0  \n",
       "50%        0.0  \n",
       "75%        0.0  \n",
       "max        0.0  \n",
       "\n",
       "[8 rows x 784 columns]"
      ]
     },
     "execution_count": 24,
     "metadata": {},
     "output_type": "execute_result"
    }
   ],
   "source": [
    "train_x_deskew_minmax.describe()"
   ]
  },
  {
   "cell_type": "markdown",
   "metadata": {},
   "source": [
    "### SVM"
   ]
  },
  {
   "cell_type": "code",
   "execution_count": 25,
   "metadata": {},
   "outputs": [
    {
     "name": "stdout",
     "output_type": "stream",
     "text": [
      "0.9807142857142858\n"
     ]
    }
   ],
   "source": [
    "from sklearn.svm import SVC\n",
    "\n",
    "from sklearn.metrics import accuracy_score\n",
    "from sklearn.model_selection import train_test_split\n",
    "X_train, X_test, y_train, y_test = train_test_split(train_x_deskew_minmax,\n",
    "                                                    train_y,\n",
    "                                                    test_size = 0.1,\n",
    "                                                    random_state = 87)\n",
    "\n",
    "clf = SVC()\n",
    "clf.fit(X_train, y_train)\n",
    "predict_result = clf.predict(X_test)\n",
    "predict_score = accuracy_score(y_test, predict_result)\n",
    "print(predict_score)"
   ]
  },
  {
   "cell_type": "markdown",
   "metadata": {},
   "source": [
    "### deskewing testing"
   ]
  },
  {
   "cell_type": "code",
   "execution_count": 26,
   "metadata": {},
   "outputs": [],
   "source": [
    "# Deskewing the data\n",
    "test_x_deskew=test_x.apply(lambda x: deskew(x.values.reshape(28,28)).flatten(),axis=1)\n",
    "\n",
    "# to dataframe\n",
    "test_x_deskew_df = test_x\n",
    "for i in range(28000):\n",
    "    test_x_deskew_df.iloc[i,:] = test_x_deskew[i]"
   ]
  },
  {
   "cell_type": "code",
   "execution_count": 27,
   "metadata": {},
   "outputs": [],
   "source": [
    "from sklearn import preprocessing\n",
    "minmax = preprocessing.MinMaxScaler()\n",
    "test_x_deskew_minmax = minmax.fit_transform(test_x_deskew_df)\n",
    "test_x_deskew_minmax = pd.DataFrame(test_x_deskew_minmax)"
   ]
  },
  {
   "cell_type": "code",
   "execution_count": 28,
   "metadata": {},
   "outputs": [
    {
     "data": {
      "text/plain": [
       "0"
      ]
     },
     "execution_count": 28,
     "metadata": {},
     "output_type": "execute_result"
    }
   ],
   "source": [
    "test_x_deskew_minmax.isnull().sum().sum()"
   ]
  },
  {
   "cell_type": "code",
   "execution_count": 29,
   "metadata": {},
   "outputs": [
    {
     "data": {
      "text/html": [
       "<div>\n",
       "<style scoped>\n",
       "    .dataframe tbody tr th:only-of-type {\n",
       "        vertical-align: middle;\n",
       "    }\n",
       "\n",
       "    .dataframe tbody tr th {\n",
       "        vertical-align: top;\n",
       "    }\n",
       "\n",
       "    .dataframe thead th {\n",
       "        text-align: right;\n",
       "    }\n",
       "</style>\n",
       "<table border=\"1\" class=\"dataframe\">\n",
       "  <thead>\n",
       "    <tr style=\"text-align: right;\">\n",
       "      <th></th>\n",
       "      <th>0</th>\n",
       "      <th>1</th>\n",
       "      <th>2</th>\n",
       "      <th>3</th>\n",
       "      <th>4</th>\n",
       "      <th>5</th>\n",
       "      <th>6</th>\n",
       "      <th>7</th>\n",
       "      <th>8</th>\n",
       "      <th>9</th>\n",
       "      <th>...</th>\n",
       "      <th>774</th>\n",
       "      <th>775</th>\n",
       "      <th>776</th>\n",
       "      <th>777</th>\n",
       "      <th>778</th>\n",
       "      <th>779</th>\n",
       "      <th>780</th>\n",
       "      <th>781</th>\n",
       "      <th>782</th>\n",
       "      <th>783</th>\n",
       "    </tr>\n",
       "  </thead>\n",
       "  <tbody>\n",
       "    <tr>\n",
       "      <th>count</th>\n",
       "      <td>28000.0</td>\n",
       "      <td>28000.0</td>\n",
       "      <td>28000.0</td>\n",
       "      <td>28000.000000</td>\n",
       "      <td>28000.000000</td>\n",
       "      <td>28000.000000</td>\n",
       "      <td>28000.000000</td>\n",
       "      <td>28000.000000</td>\n",
       "      <td>28000.000000</td>\n",
       "      <td>28000.000000</td>\n",
       "      <td>...</td>\n",
       "      <td>28000.000000</td>\n",
       "      <td>28000.000000</td>\n",
       "      <td>28000.000000</td>\n",
       "      <td>28000.000000</td>\n",
       "      <td>28000.000000</td>\n",
       "      <td>28000.000000</td>\n",
       "      <td>28000.000000</td>\n",
       "      <td>28000.000000</td>\n",
       "      <td>28000.000000</td>\n",
       "      <td>28000.000000</td>\n",
       "    </tr>\n",
       "    <tr>\n",
       "      <th>mean</th>\n",
       "      <td>0.0</td>\n",
       "      <td>0.0</td>\n",
       "      <td>0.0</td>\n",
       "      <td>0.000054</td>\n",
       "      <td>0.333357</td>\n",
       "      <td>0.500027</td>\n",
       "      <td>0.250018</td>\n",
       "      <td>0.166726</td>\n",
       "      <td>0.500068</td>\n",
       "      <td>0.807701</td>\n",
       "      <td>...</td>\n",
       "      <td>0.228561</td>\n",
       "      <td>0.399991</td>\n",
       "      <td>0.288144</td>\n",
       "      <td>0.148944</td>\n",
       "      <td>0.705840</td>\n",
       "      <td>0.874915</td>\n",
       "      <td>0.499911</td>\n",
       "      <td>0.999946</td>\n",
       "      <td>0.999929</td>\n",
       "      <td>0.999964</td>\n",
       "    </tr>\n",
       "    <tr>\n",
       "      <th>std</th>\n",
       "      <td>0.0</td>\n",
       "      <td>0.0</td>\n",
       "      <td>0.0</td>\n",
       "      <td>0.006681</td>\n",
       "      <td>0.005634</td>\n",
       "      <td>0.006847</td>\n",
       "      <td>0.009449</td>\n",
       "      <td>0.008909</td>\n",
       "      <td>0.009430</td>\n",
       "      <td>0.006662</td>\n",
       "      <td>...</td>\n",
       "      <td>0.006236</td>\n",
       "      <td>0.007391</td>\n",
       "      <td>0.004939</td>\n",
       "      <td>0.005280</td>\n",
       "      <td>0.004794</td>\n",
       "      <td>0.006022</td>\n",
       "      <td>0.007905</td>\n",
       "      <td>0.006681</td>\n",
       "      <td>0.008451</td>\n",
       "      <td>0.005976</td>\n",
       "    </tr>\n",
       "    <tr>\n",
       "      <th>min</th>\n",
       "      <td>0.0</td>\n",
       "      <td>0.0</td>\n",
       "      <td>0.0</td>\n",
       "      <td>0.000000</td>\n",
       "      <td>0.000000</td>\n",
       "      <td>0.000000</td>\n",
       "      <td>0.000000</td>\n",
       "      <td>0.000000</td>\n",
       "      <td>0.000000</td>\n",
       "      <td>0.000000</td>\n",
       "      <td>...</td>\n",
       "      <td>0.000000</td>\n",
       "      <td>0.000000</td>\n",
       "      <td>0.000000</td>\n",
       "      <td>0.000000</td>\n",
       "      <td>0.000000</td>\n",
       "      <td>0.000000</td>\n",
       "      <td>0.000000</td>\n",
       "      <td>0.000000</td>\n",
       "      <td>0.000000</td>\n",
       "      <td>0.000000</td>\n",
       "    </tr>\n",
       "    <tr>\n",
       "      <th>25%</th>\n",
       "      <td>0.0</td>\n",
       "      <td>0.0</td>\n",
       "      <td>0.0</td>\n",
       "      <td>0.000000</td>\n",
       "      <td>0.333333</td>\n",
       "      <td>0.500000</td>\n",
       "      <td>0.250000</td>\n",
       "      <td>0.166667</td>\n",
       "      <td>0.500000</td>\n",
       "      <td>0.807692</td>\n",
       "      <td>...</td>\n",
       "      <td>0.228571</td>\n",
       "      <td>0.400000</td>\n",
       "      <td>0.288136</td>\n",
       "      <td>0.148936</td>\n",
       "      <td>0.705882</td>\n",
       "      <td>0.875000</td>\n",
       "      <td>0.500000</td>\n",
       "      <td>1.000000</td>\n",
       "      <td>1.000000</td>\n",
       "      <td>1.000000</td>\n",
       "    </tr>\n",
       "    <tr>\n",
       "      <th>50%</th>\n",
       "      <td>0.0</td>\n",
       "      <td>0.0</td>\n",
       "      <td>0.0</td>\n",
       "      <td>0.000000</td>\n",
       "      <td>0.333333</td>\n",
       "      <td>0.500000</td>\n",
       "      <td>0.250000</td>\n",
       "      <td>0.166667</td>\n",
       "      <td>0.500000</td>\n",
       "      <td>0.807692</td>\n",
       "      <td>...</td>\n",
       "      <td>0.228571</td>\n",
       "      <td>0.400000</td>\n",
       "      <td>0.288136</td>\n",
       "      <td>0.148936</td>\n",
       "      <td>0.705882</td>\n",
       "      <td>0.875000</td>\n",
       "      <td>0.500000</td>\n",
       "      <td>1.000000</td>\n",
       "      <td>1.000000</td>\n",
       "      <td>1.000000</td>\n",
       "    </tr>\n",
       "    <tr>\n",
       "      <th>75%</th>\n",
       "      <td>0.0</td>\n",
       "      <td>0.0</td>\n",
       "      <td>0.0</td>\n",
       "      <td>0.000000</td>\n",
       "      <td>0.333333</td>\n",
       "      <td>0.500000</td>\n",
       "      <td>0.250000</td>\n",
       "      <td>0.166667</td>\n",
       "      <td>0.500000</td>\n",
       "      <td>0.807692</td>\n",
       "      <td>...</td>\n",
       "      <td>0.228571</td>\n",
       "      <td>0.400000</td>\n",
       "      <td>0.288136</td>\n",
       "      <td>0.148936</td>\n",
       "      <td>0.705882</td>\n",
       "      <td>0.875000</td>\n",
       "      <td>0.500000</td>\n",
       "      <td>1.000000</td>\n",
       "      <td>1.000000</td>\n",
       "      <td>1.000000</td>\n",
       "    </tr>\n",
       "    <tr>\n",
       "      <th>max</th>\n",
       "      <td>0.0</td>\n",
       "      <td>0.0</td>\n",
       "      <td>0.0</td>\n",
       "      <td>1.000000</td>\n",
       "      <td>1.000000</td>\n",
       "      <td>1.000000</td>\n",
       "      <td>1.000000</td>\n",
       "      <td>1.000000</td>\n",
       "      <td>1.000000</td>\n",
       "      <td>1.000000</td>\n",
       "      <td>...</td>\n",
       "      <td>1.000000</td>\n",
       "      <td>1.000000</td>\n",
       "      <td>1.000000</td>\n",
       "      <td>1.000000</td>\n",
       "      <td>1.000000</td>\n",
       "      <td>1.000000</td>\n",
       "      <td>1.000000</td>\n",
       "      <td>1.000000</td>\n",
       "      <td>1.000000</td>\n",
       "      <td>1.000000</td>\n",
       "    </tr>\n",
       "  </tbody>\n",
       "</table>\n",
       "<p>8 rows × 784 columns</p>\n",
       "</div>"
      ],
      "text/plain": [
       "           0        1        2             3             4             5    \\\n",
       "count  28000.0  28000.0  28000.0  28000.000000  28000.000000  28000.000000   \n",
       "mean       0.0      0.0      0.0      0.000054      0.333357      0.500027   \n",
       "std        0.0      0.0      0.0      0.006681      0.005634      0.006847   \n",
       "min        0.0      0.0      0.0      0.000000      0.000000      0.000000   \n",
       "25%        0.0      0.0      0.0      0.000000      0.333333      0.500000   \n",
       "50%        0.0      0.0      0.0      0.000000      0.333333      0.500000   \n",
       "75%        0.0      0.0      0.0      0.000000      0.333333      0.500000   \n",
       "max        0.0      0.0      0.0      1.000000      1.000000      1.000000   \n",
       "\n",
       "                6             7             8             9    ...  \\\n",
       "count  28000.000000  28000.000000  28000.000000  28000.000000  ...   \n",
       "mean       0.250018      0.166726      0.500068      0.807701  ...   \n",
       "std        0.009449      0.008909      0.009430      0.006662  ...   \n",
       "min        0.000000      0.000000      0.000000      0.000000  ...   \n",
       "25%        0.250000      0.166667      0.500000      0.807692  ...   \n",
       "50%        0.250000      0.166667      0.500000      0.807692  ...   \n",
       "75%        0.250000      0.166667      0.500000      0.807692  ...   \n",
       "max        1.000000      1.000000      1.000000      1.000000  ...   \n",
       "\n",
       "                774           775           776           777           778  \\\n",
       "count  28000.000000  28000.000000  28000.000000  28000.000000  28000.000000   \n",
       "mean       0.228561      0.399991      0.288144      0.148944      0.705840   \n",
       "std        0.006236      0.007391      0.004939      0.005280      0.004794   \n",
       "min        0.000000      0.000000      0.000000      0.000000      0.000000   \n",
       "25%        0.228571      0.400000      0.288136      0.148936      0.705882   \n",
       "50%        0.228571      0.400000      0.288136      0.148936      0.705882   \n",
       "75%        0.228571      0.400000      0.288136      0.148936      0.705882   \n",
       "max        1.000000      1.000000      1.000000      1.000000      1.000000   \n",
       "\n",
       "                779           780           781           782           783  \n",
       "count  28000.000000  28000.000000  28000.000000  28000.000000  28000.000000  \n",
       "mean       0.874915      0.499911      0.999946      0.999929      0.999964  \n",
       "std        0.006022      0.007905      0.006681      0.008451      0.005976  \n",
       "min        0.000000      0.000000      0.000000      0.000000      0.000000  \n",
       "25%        0.875000      0.500000      1.000000      1.000000      1.000000  \n",
       "50%        0.875000      0.500000      1.000000      1.000000      1.000000  \n",
       "75%        0.875000      0.500000      1.000000      1.000000      1.000000  \n",
       "max        1.000000      1.000000      1.000000      1.000000      1.000000  \n",
       "\n",
       "[8 rows x 784 columns]"
      ]
     },
     "execution_count": 29,
     "metadata": {},
     "output_type": "execute_result"
    }
   ],
   "source": [
    "test_x_deskew_minmax.describe()"
   ]
  },
  {
   "cell_type": "markdown",
   "metadata": {},
   "source": [
    "## 4.2 dimension reduction"
   ]
  },
  {
   "cell_type": "markdown",
   "metadata": {},
   "source": [
    "### PCA"
   ]
  },
  {
   "cell_type": "code",
   "execution_count": 30,
   "metadata": {},
   "outputs": [],
   "source": [
    "from sklearn.decomposition import PCA \n",
    "from sklearn import metrics\n",
    "def n_component_analysis(n,X_train, y_train, X_val, y_val,kernel_type=\"linear\"):\n",
    "   \n",
    "    pca = PCA(n_components=n)\n",
    "    print(\"PCA begin with n_components: {}\".format(n))\n",
    "    pca.fit(X_train)\n",
    "\n",
    "    X_train_pca = pca.transform(X_train)\n",
    "    X_val_pca = pca.transform(X_val)\n",
    "\n",
    "    print('SVC begin')\n",
    "    clf1 = SVC(kernel=kernel_type)\n",
    "    clf1.fit(X_train_pca, y_train)\n",
    "    predictions=clf1.predict(X_val_pca)\n",
    "    accuracy = metrics.accuracy_score(y_val,predictions)\n",
    "    \n",
    "    print(\"accuracy: {}\".format(accuracy))\n",
    "    return accuracy"
   ]
  },
  {
   "cell_type": "code",
   "execution_count": 31,
   "metadata": {},
   "outputs": [
    {
     "name": "stdout",
     "output_type": "stream",
     "text": [
      "PCA begin with n_components: 0.8\n",
      "SVC begin\n",
      "accuracy: 0.9857142857142858\n",
      "PCA begin with n_components: 0.8107142857142857\n",
      "SVC begin\n",
      "accuracy: 0.9859523809523809\n",
      "PCA begin with n_components: 0.8214285714285715\n",
      "SVC begin\n",
      "accuracy: 0.9857142857142858\n",
      "PCA begin with n_components: 0.8321428571428572\n",
      "SVC begin\n",
      "accuracy: 0.9861904761904762\n",
      "PCA begin with n_components: 0.8428571428571429\n",
      "SVC begin\n",
      "accuracy: 0.9861904761904762\n",
      "PCA begin with n_components: 0.8535714285714285\n",
      "SVC begin\n",
      "accuracy: 0.9859523809523809\n",
      "PCA begin with n_components: 0.8642857142857143\n",
      "SVC begin\n",
      "accuracy: 0.9864285714285714\n",
      "PCA begin with n_components: 0.875\n",
      "SVC begin\n",
      "accuracy: 0.9864285714285714\n",
      "PCA begin with n_components: 0.8857142857142857\n",
      "SVC begin\n",
      "accuracy: 0.9861904761904762\n",
      "PCA begin with n_components: 0.8964285714285714\n",
      "SVC begin\n",
      "accuracy: 0.9864285714285714\n",
      "PCA begin with n_components: 0.9071428571428571\n",
      "SVC begin\n",
      "accuracy: 0.9866666666666667\n",
      "PCA begin with n_components: 0.9178571428571428\n",
      "SVC begin\n",
      "accuracy: 0.9866666666666667\n",
      "PCA begin with n_components: 0.9285714285714286\n",
      "SVC begin\n",
      "accuracy: 0.9861904761904762\n",
      "PCA begin with n_components: 0.9392857142857143\n",
      "SVC begin\n",
      "accuracy: 0.9861904761904762\n",
      "PCA begin with n_components: 0.95\n",
      "SVC begin\n",
      "accuracy: 0.9866666666666667\n"
     ]
    }
   ],
   "source": [
    "# Calling the PCA function above where kernel is linear by default and see if we ca improve our accuracy\n",
    "n_s = np.linspace(0.8, 0.95, num=15)\n",
    "accuracy = []\n",
    "\n",
    "for n in n_s:\n",
    "    tmp = n_component_analysis(n, X_train, y_train, X_test, y_test, \"rbf\")\n",
    "    accuracy.append(tmp)"
   ]
  },
  {
   "cell_type": "code",
   "execution_count": 32,
   "metadata": {},
   "outputs": [
    {
     "data": {
      "image/png": "[encoded data removed]",
      "text/plain": [
       "<Figure size 432x288 with 1 Axes>"
      ]
     },
     "metadata": {
      "needs_background": "light"
     },
     "output_type": "display_data"
    }
   ],
   "source": [
    "plt.figure()\n",
    "plt.plot(n_s,np.array(accuracy),label='Accuracy vs % variance explained')\n",
    "plt.legend()\n",
    "plt.show()"
   ]
  },
  {
   "cell_type": "code",
   "execution_count": 34,
   "metadata": {},
   "outputs": [
    {
     "data": {
      "text/html": [
       "<div>\n",
       "<style scoped>\n",
       "    .dataframe tbody tr th:only-of-type {\n",
       "        vertical-align: middle;\n",
       "    }\n",
       "\n",
       "    .dataframe tbody tr th {\n",
       "        vertical-align: top;\n",
       "    }\n",
       "\n",
       "    .dataframe thead th {\n",
       "        text-align: right;\n",
       "    }\n",
       "</style>\n",
       "<table border=\"1\" class=\"dataframe\">\n",
       "  <thead>\n",
       "    <tr style=\"text-align: right;\">\n",
       "      <th></th>\n",
       "      <th>0</th>\n",
       "      <th>1</th>\n",
       "      <th>2</th>\n",
       "      <th>3</th>\n",
       "      <th>4</th>\n",
       "      <th>5</th>\n",
       "      <th>6</th>\n",
       "      <th>7</th>\n",
       "      <th>8</th>\n",
       "      <th>9</th>\n",
       "      <th>...</th>\n",
       "      <th>64</th>\n",
       "      <th>65</th>\n",
       "      <th>66</th>\n",
       "      <th>67</th>\n",
       "      <th>68</th>\n",
       "      <th>69</th>\n",
       "      <th>70</th>\n",
       "      <th>71</th>\n",
       "      <th>72</th>\n",
       "      <th>73</th>\n",
       "    </tr>\n",
       "  </thead>\n",
       "  <tbody>\n",
       "    <tr>\n",
       "      <th>0</th>\n",
       "      <td>-2.831333</td>\n",
       "      <td>-2.064473</td>\n",
       "      <td>0.292725</td>\n",
       "      <td>0.894628</td>\n",
       "      <td>-0.394213</td>\n",
       "      <td>0.587229</td>\n",
       "      <td>1.099064</td>\n",
       "      <td>0.730856</td>\n",
       "      <td>0.382174</td>\n",
       "      <td>0.145311</td>\n",
       "      <td>...</td>\n",
       "      <td>-0.043755</td>\n",
       "      <td>0.177827</td>\n",
       "      <td>-0.035751</td>\n",
       "      <td>-0.062237</td>\n",
       "      <td>-0.129643</td>\n",
       "      <td>0.102142</td>\n",
       "      <td>0.002019</td>\n",
       "      <td>-0.064333</td>\n",
       "      <td>0.009148</td>\n",
       "      <td>0.121832</td>\n",
       "    </tr>\n",
       "    <tr>\n",
       "      <th>1</th>\n",
       "      <td>5.070121</td>\n",
       "      <td>0.083005</td>\n",
       "      <td>-0.554687</td>\n",
       "      <td>2.862094</td>\n",
       "      <td>0.548745</td>\n",
       "      <td>1.188118</td>\n",
       "      <td>1.472586</td>\n",
       "      <td>-0.152216</td>\n",
       "      <td>-0.104062</td>\n",
       "      <td>-0.082987</td>\n",
       "      <td>...</td>\n",
       "      <td>0.147575</td>\n",
       "      <td>-0.047548</td>\n",
       "      <td>0.225930</td>\n",
       "      <td>0.004446</td>\n",
       "      <td>-0.176443</td>\n",
       "      <td>-0.079856</td>\n",
       "      <td>-0.078666</td>\n",
       "      <td>-0.139467</td>\n",
       "      <td>-0.070181</td>\n",
       "      <td>0.046841</td>\n",
       "    </tr>\n",
       "    <tr>\n",
       "      <th>2</th>\n",
       "      <td>-2.989025</td>\n",
       "      <td>-1.717875</td>\n",
       "      <td>0.609285</td>\n",
       "      <td>1.489221</td>\n",
       "      <td>0.038773</td>\n",
       "      <td>0.470444</td>\n",
       "      <td>0.551889</td>\n",
       "      <td>0.359773</td>\n",
       "      <td>0.170749</td>\n",
       "      <td>0.602130</td>\n",
       "      <td>...</td>\n",
       "      <td>-0.017374</td>\n",
       "      <td>-0.152045</td>\n",
       "      <td>-0.029596</td>\n",
       "      <td>0.101149</td>\n",
       "      <td>0.040939</td>\n",
       "      <td>-0.048167</td>\n",
       "      <td>-0.010143</td>\n",
       "      <td>-0.039370</td>\n",
       "      <td>0.080454</td>\n",
       "      <td>-0.114349</td>\n",
       "    </tr>\n",
       "    <tr>\n",
       "      <th>3</th>\n",
       "      <td>0.144345</td>\n",
       "      <td>0.749449</td>\n",
       "      <td>0.806764</td>\n",
       "      <td>1.284375</td>\n",
       "      <td>-0.128008</td>\n",
       "      <td>-2.290930</td>\n",
       "      <td>-0.720178</td>\n",
       "      <td>-0.416997</td>\n",
       "      <td>1.109408</td>\n",
       "      <td>-0.203661</td>\n",
       "      <td>...</td>\n",
       "      <td>0.433888</td>\n",
       "      <td>0.118890</td>\n",
       "      <td>0.142124</td>\n",
       "      <td>0.498324</td>\n",
       "      <td>-0.102785</td>\n",
       "      <td>-0.350207</td>\n",
       "      <td>-0.323509</td>\n",
       "      <td>-0.113131</td>\n",
       "      <td>-0.255592</td>\n",
       "      <td>-0.009932</td>\n",
       "    </tr>\n",
       "    <tr>\n",
       "      <th>4</th>\n",
       "      <td>5.412481</td>\n",
       "      <td>0.087865</td>\n",
       "      <td>-1.317259</td>\n",
       "      <td>3.250667</td>\n",
       "      <td>1.065861</td>\n",
       "      <td>1.015387</td>\n",
       "      <td>1.535175</td>\n",
       "      <td>0.368292</td>\n",
       "      <td>-0.913332</td>\n",
       "      <td>-0.421665</td>\n",
       "      <td>...</td>\n",
       "      <td>0.166912</td>\n",
       "      <td>0.002783</td>\n",
       "      <td>-0.206120</td>\n",
       "      <td>0.016134</td>\n",
       "      <td>-0.163981</td>\n",
       "      <td>-0.292273</td>\n",
       "      <td>0.312407</td>\n",
       "      <td>0.094467</td>\n",
       "      <td>-0.179972</td>\n",
       "      <td>0.278382</td>\n",
       "    </tr>\n",
       "    <tr>\n",
       "      <th>...</th>\n",
       "      <td>...</td>\n",
       "      <td>...</td>\n",
       "      <td>...</td>\n",
       "      <td>...</td>\n",
       "      <td>...</td>\n",
       "      <td>...</td>\n",
       "      <td>...</td>\n",
       "      <td>...</td>\n",
       "      <td>...</td>\n",
       "      <td>...</td>\n",
       "      <td>...</td>\n",
       "      <td>...</td>\n",
       "      <td>...</td>\n",
       "      <td>...</td>\n",
       "      <td>...</td>\n",
       "      <td>...</td>\n",
       "      <td>...</td>\n",
       "      <td>...</td>\n",
       "      <td>...</td>\n",
       "      <td>...</td>\n",
       "      <td>...</td>\n",
       "    </tr>\n",
       "    <tr>\n",
       "      <th>41995</th>\n",
       "      <td>2.367404</td>\n",
       "      <td>-0.493737</td>\n",
       "      <td>-1.946958</td>\n",
       "      <td>3.275573</td>\n",
       "      <td>0.285309</td>\n",
       "      <td>-0.505212</td>\n",
       "      <td>1.024043</td>\n",
       "      <td>-0.524963</td>\n",
       "      <td>-0.169765</td>\n",
       "      <td>-0.435499</td>\n",
       "      <td>...</td>\n",
       "      <td>0.479307</td>\n",
       "      <td>0.648000</td>\n",
       "      <td>0.593271</td>\n",
       "      <td>0.017383</td>\n",
       "      <td>-0.178629</td>\n",
       "      <td>-0.020312</td>\n",
       "      <td>0.069653</td>\n",
       "      <td>-0.225711</td>\n",
       "      <td>-0.166402</td>\n",
       "      <td>-0.262372</td>\n",
       "    </tr>\n",
       "    <tr>\n",
       "      <th>41996</th>\n",
       "      <td>-3.229034</td>\n",
       "      <td>-1.579258</td>\n",
       "      <td>0.235385</td>\n",
       "      <td>1.268894</td>\n",
       "      <td>-0.195702</td>\n",
       "      <td>0.260785</td>\n",
       "      <td>0.854457</td>\n",
       "      <td>0.656307</td>\n",
       "      <td>0.066002</td>\n",
       "      <td>0.471923</td>\n",
       "      <td>...</td>\n",
       "      <td>0.116616</td>\n",
       "      <td>0.018101</td>\n",
       "      <td>0.086265</td>\n",
       "      <td>0.012537</td>\n",
       "      <td>0.110965</td>\n",
       "      <td>-0.126255</td>\n",
       "      <td>-0.017592</td>\n",
       "      <td>0.062386</td>\n",
       "      <td>-0.166740</td>\n",
       "      <td>-0.053985</td>\n",
       "    </tr>\n",
       "    <tr>\n",
       "      <th>41997</th>\n",
       "      <td>-0.362978</td>\n",
       "      <td>3.018570</td>\n",
       "      <td>-1.156332</td>\n",
       "      <td>1.122718</td>\n",
       "      <td>0.005515</td>\n",
       "      <td>2.205869</td>\n",
       "      <td>-1.773513</td>\n",
       "      <td>0.320822</td>\n",
       "      <td>1.818344</td>\n",
       "      <td>-0.787662</td>\n",
       "      <td>...</td>\n",
       "      <td>-0.176813</td>\n",
       "      <td>0.018282</td>\n",
       "      <td>0.112202</td>\n",
       "      <td>0.056061</td>\n",
       "      <td>-0.151695</td>\n",
       "      <td>-0.218754</td>\n",
       "      <td>-0.120990</td>\n",
       "      <td>0.261201</td>\n",
       "      <td>0.111347</td>\n",
       "      <td>-0.104888</td>\n",
       "    </tr>\n",
       "    <tr>\n",
       "      <th>41998</th>\n",
       "      <td>0.313959</td>\n",
       "      <td>-0.002364</td>\n",
       "      <td>3.680442</td>\n",
       "      <td>0.131490</td>\n",
       "      <td>-0.783265</td>\n",
       "      <td>0.640544</td>\n",
       "      <td>-0.538039</td>\n",
       "      <td>-0.916124</td>\n",
       "      <td>-0.348473</td>\n",
       "      <td>0.659876</td>\n",
       "      <td>...</td>\n",
       "      <td>0.184446</td>\n",
       "      <td>0.147193</td>\n",
       "      <td>-0.082757</td>\n",
       "      <td>0.426452</td>\n",
       "      <td>-0.176788</td>\n",
       "      <td>0.222286</td>\n",
       "      <td>0.163123</td>\n",
       "      <td>0.234043</td>\n",
       "      <td>-0.061982</td>\n",
       "      <td>0.212284</td>\n",
       "    </tr>\n",
       "    <tr>\n",
       "      <th>41999</th>\n",
       "      <td>-0.934585</td>\n",
       "      <td>0.791201</td>\n",
       "      <td>0.336356</td>\n",
       "      <td>-0.262436</td>\n",
       "      <td>0.157166</td>\n",
       "      <td>-1.053985</td>\n",
       "      <td>0.526529</td>\n",
       "      <td>-1.115222</td>\n",
       "      <td>-0.932202</td>\n",
       "      <td>-1.847283</td>\n",
       "      <td>...</td>\n",
       "      <td>-0.198556</td>\n",
       "      <td>-0.034313</td>\n",
       "      <td>0.167201</td>\n",
       "      <td>0.177175</td>\n",
       "      <td>-0.118219</td>\n",
       "      <td>-0.014606</td>\n",
       "      <td>0.059145</td>\n",
       "      <td>-0.044049</td>\n",
       "      <td>-0.149714</td>\n",
       "      <td>0.052340</td>\n",
       "    </tr>\n",
       "  </tbody>\n",
       "</table>\n",
       "<p>42000 rows × 74 columns</p>\n",
       "</div>"
      ],
      "text/plain": [
       "             0         1         2         3         4         5         6   \\\n",
       "0     -2.831333 -2.064473  0.292725  0.894628 -0.394213  0.587229  1.099064   \n",
       "1      5.070121  0.083005 -0.554687  2.862094  0.548745  1.188118  1.472586   \n",
       "2     -2.989025 -1.717875  0.609285  1.489221  0.038773  0.470444  0.551889   \n",
       "3      0.144345  0.749449  0.806764  1.284375 -0.128008 -2.290930 -0.720178   \n",
       "4      5.412481  0.087865 -1.317259  3.250667  1.065861  1.015387  1.535175   \n",
       "...         ...       ...       ...       ...       ...       ...       ...   \n",
       "41995  2.367404 -0.493737 -1.946958  3.275573  0.285309 -0.505212  1.024043   \n",
       "41996 -3.229034 -1.579258  0.235385  1.268894 -0.195702  0.260785  0.854457   \n",
       "41997 -0.362978  3.018570 -1.156332  1.122718  0.005515  2.205869 -1.773513   \n",
       "41998  0.313959 -0.002364  3.680442  0.131490 -0.783265  0.640544 -0.538039   \n",
       "41999 -0.934585  0.791201  0.336356 -0.262436  0.157166 -1.053985  0.526529   \n",
       "\n",
       "             7         8         9   ...        64        65        66  \\\n",
       "0      0.730856  0.382174  0.145311  ... -0.043755  0.177827 -0.035751   \n",
       "1     -0.152216 -0.104062 -0.082987  ...  0.147575 -0.047548  0.225930   \n",
       "2      0.359773  0.170749  0.602130  ... -0.017374 -0.152045 -0.029596   \n",
       "3     -0.416997  1.109408 -0.203661  ...  0.433888  0.118890  0.142124   \n",
       "4      0.368292 -0.913332 -0.421665  ...  0.166912  0.002783 -0.206120   \n",
       "...         ...       ...       ...  ...       ...       ...       ...   \n",
       "41995 -0.524963 -0.169765 -0.435499  ...  0.479307  0.648000  0.593271   \n",
       "41996  0.656307  0.066002  0.471923  ...  0.116616  0.018101  0.086265   \n",
       "41997  0.320822  1.818344 -0.787662  ... -0.176813  0.018282  0.112202   \n",
       "41998 -0.916124 -0.348473  0.659876  ...  0.184446  0.147193 -0.082757   \n",
       "41999 -1.115222 -0.932202 -1.847283  ... -0.198556 -0.034313  0.167201   \n",
       "\n",
       "             67        68        69        70        71        72        73  \n",
       "0     -0.062237 -0.129643  0.102142  0.002019 -0.064333  0.009148  0.121832  \n",
       "1      0.004446 -0.176443 -0.079856 -0.078666 -0.139467 -0.070181  0.046841  \n",
       "2      0.101149  0.040939 -0.048167 -0.010143 -0.039370  0.080454 -0.114349  \n",
       "3      0.498324 -0.102785 -0.350207 -0.323509 -0.113131 -0.255592 -0.009932  \n",
       "4      0.016134 -0.163981 -0.292273  0.312407  0.094467 -0.179972  0.278382  \n",
       "...         ...       ...       ...       ...       ...       ...       ...  \n",
       "41995  0.017383 -0.178629 -0.020312  0.069653 -0.225711 -0.166402 -0.262372  \n",
       "41996  0.012537  0.110965 -0.126255 -0.017592  0.062386 -0.166740 -0.053985  \n",
       "41997  0.056061 -0.151695 -0.218754 -0.120990  0.261201  0.111347 -0.104888  \n",
       "41998  0.426452 -0.176788  0.222286  0.163123  0.234043 -0.061982  0.212284  \n",
       "41999  0.177175 -0.118219 -0.014606  0.059145 -0.044049 -0.149714  0.052340  \n",
       "\n",
       "[42000 rows x 74 columns]"
      ]
     },
     "execution_count": 34,
     "metadata": {},
     "output_type": "execute_result"
    }
   ],
   "source": [
    "pca = PCA(n_components=0.91)\n",
    "pca.fit(train_x_deskew_minmax)\n",
    "train_x_pca = pca.transform(train_x_deskew_minmax)\n",
    "train_x_pca = pd.DataFrame(train_x_pca)\n",
    "train_x_pca"
   ]
  },
  {
   "cell_type": "code",
   "execution_count": 35,
   "metadata": {
    "scrolled": true
   },
   "outputs": [
    {
     "name": "stdout",
     "output_type": "stream",
     "text": [
      "[0.13789132 0.0943459  0.07103556 0.06252768 0.04917979 0.04199037\n",
      " 0.03602013 0.02676086 0.02602739 0.02304625 0.01926841 0.01867989\n",
      " 0.0169694  0.01589496 0.01463702 0.01278304 0.01270152 0.01148722\n",
      " 0.01066344 0.00944637 0.00847923 0.00820109 0.00807981 0.00778814\n",
      " 0.00752427 0.00703069 0.00669442 0.00644999 0.00612338 0.00592203\n",
      " 0.00565045 0.00531889 0.00504147 0.00493973 0.00472345 0.00457334\n",
      " 0.0043084  0.00425501 0.00405188 0.00382562 0.0037961  0.00365149\n",
      " 0.00351936 0.00339482 0.00320801 0.00309157 0.00301225 0.00288885\n",
      " 0.00282317 0.00275528 0.00272213 0.00265178 0.00258902 0.0025106\n",
      " 0.00243158 0.0023865  0.00226136 0.00224013 0.00214661 0.0020747\n",
      " 0.00201783 0.00196952 0.00194464 0.00185464 0.00177692 0.00173602\n",
      " 0.00170624 0.00165973 0.00160678 0.00158967 0.00154895 0.00150376\n",
      " 0.00147576 0.00142787]\n"
     ]
    }
   ],
   "source": [
    "print(pca.explained_variance_ratio_)"
   ]
  },
  {
   "cell_type": "markdown",
   "metadata": {},
   "source": [
    "# 5.Modeling"
   ]
  },
  {
   "cell_type": "code",
   "execution_count": 36,
   "metadata": {},
   "outputs": [
    {
     "data": {
      "text/plain": [
       "SVC(C=1.0, break_ties=False, cache_size=200, class_weight=None, coef0=0.0,\n",
       "    decision_function_shape='ovr', degree=3, gamma='scale', kernel='rbf',\n",
       "    max_iter=-1, probability=False, random_state=None, shrinking=True,\n",
       "    tol=0.001, verbose=False)"
      ]
     },
     "execution_count": 36,
     "metadata": {},
     "output_type": "execute_result"
    }
   ],
   "source": [
    "clf = SVC()\n",
    "clf.fit(train_x_pca, train_y)"
   ]
  },
  {
   "cell_type": "markdown",
   "metadata": {},
   "source": [
    "# 6.Testing"
   ]
  },
  {
   "cell_type": "code",
   "execution_count": 38,
   "metadata": {},
   "outputs": [
    {
     "data": {
      "text/html": [
       "<div>\n",
       "<style scoped>\n",
       "    .dataframe tbody tr th:only-of-type {\n",
       "        vertical-align: middle;\n",
       "    }\n",
       "\n",
       "    .dataframe tbody tr th {\n",
       "        vertical-align: top;\n",
       "    }\n",
       "\n",
       "    .dataframe thead th {\n",
       "        text-align: right;\n",
       "    }\n",
       "</style>\n",
       "<table border=\"1\" class=\"dataframe\">\n",
       "  <thead>\n",
       "    <tr style=\"text-align: right;\">\n",
       "      <th></th>\n",
       "      <th>0</th>\n",
       "      <th>1</th>\n",
       "      <th>2</th>\n",
       "      <th>3</th>\n",
       "      <th>4</th>\n",
       "      <th>5</th>\n",
       "      <th>6</th>\n",
       "      <th>7</th>\n",
       "      <th>8</th>\n",
       "      <th>9</th>\n",
       "      <th>...</th>\n",
       "      <th>64</th>\n",
       "      <th>65</th>\n",
       "      <th>66</th>\n",
       "      <th>67</th>\n",
       "      <th>68</th>\n",
       "      <th>69</th>\n",
       "      <th>70</th>\n",
       "      <th>71</th>\n",
       "      <th>72</th>\n",
       "      <th>73</th>\n",
       "    </tr>\n",
       "  </thead>\n",
       "  <tbody>\n",
       "    <tr>\n",
       "      <th>0</th>\n",
       "      <td>2.004526</td>\n",
       "      <td>0.276035</td>\n",
       "      <td>1.842684</td>\n",
       "      <td>-0.088970</td>\n",
       "      <td>3.411297</td>\n",
       "      <td>0.327099</td>\n",
       "      <td>-0.307218</td>\n",
       "      <td>0.290768</td>\n",
       "      <td>0.453166</td>\n",
       "      <td>0.127341</td>\n",
       "      <td>...</td>\n",
       "      <td>0.065256</td>\n",
       "      <td>0.146666</td>\n",
       "      <td>0.309478</td>\n",
       "      <td>-0.695497</td>\n",
       "      <td>0.043700</td>\n",
       "      <td>0.210864</td>\n",
       "      <td>0.140458</td>\n",
       "      <td>0.084522</td>\n",
       "      <td>0.111919</td>\n",
       "      <td>0.384269</td>\n",
       "    </tr>\n",
       "    <tr>\n",
       "      <th>1</th>\n",
       "      <td>2.845550</td>\n",
       "      <td>0.594646</td>\n",
       "      <td>0.281027</td>\n",
       "      <td>3.198423</td>\n",
       "      <td>0.674948</td>\n",
       "      <td>2.208782</td>\n",
       "      <td>0.986585</td>\n",
       "      <td>-0.162041</td>\n",
       "      <td>-0.055617</td>\n",
       "      <td>-1.811131</td>\n",
       "      <td>...</td>\n",
       "      <td>0.065040</td>\n",
       "      <td>0.173896</td>\n",
       "      <td>-0.039454</td>\n",
       "      <td>0.101808</td>\n",
       "      <td>0.222770</td>\n",
       "      <td>0.093779</td>\n",
       "      <td>0.115169</td>\n",
       "      <td>0.004728</td>\n",
       "      <td>0.067683</td>\n",
       "      <td>-0.051992</td>\n",
       "    </tr>\n",
       "    <tr>\n",
       "      <th>2</th>\n",
       "      <td>-1.303795</td>\n",
       "      <td>0.051278</td>\n",
       "      <td>-0.342434</td>\n",
       "      <td>0.316484</td>\n",
       "      <td>0.012735</td>\n",
       "      <td>-0.984140</td>\n",
       "      <td>-0.000561</td>\n",
       "      <td>-1.301845</td>\n",
       "      <td>-0.760564</td>\n",
       "      <td>0.792396</td>\n",
       "      <td>...</td>\n",
       "      <td>-0.083746</td>\n",
       "      <td>-0.092168</td>\n",
       "      <td>-0.110684</td>\n",
       "      <td>0.121155</td>\n",
       "      <td>0.102334</td>\n",
       "      <td>-0.180759</td>\n",
       "      <td>0.191000</td>\n",
       "      <td>0.188889</td>\n",
       "      <td>-0.120625</td>\n",
       "      <td>-0.046599</td>\n",
       "    </tr>\n",
       "    <tr>\n",
       "      <th>3</th>\n",
       "      <td>-1.360863</td>\n",
       "      <td>1.610034</td>\n",
       "      <td>1.381302</td>\n",
       "      <td>0.518070</td>\n",
       "      <td>0.521639</td>\n",
       "      <td>-0.407715</td>\n",
       "      <td>-1.505105</td>\n",
       "      <td>-0.453884</td>\n",
       "      <td>0.131560</td>\n",
       "      <td>-0.307336</td>\n",
       "      <td>...</td>\n",
       "      <td>0.370419</td>\n",
       "      <td>0.044777</td>\n",
       "      <td>-0.078944</td>\n",
       "      <td>-0.218092</td>\n",
       "      <td>0.167807</td>\n",
       "      <td>-0.225725</td>\n",
       "      <td>-0.257196</td>\n",
       "      <td>-0.520533</td>\n",
       "      <td>-0.121637</td>\n",
       "      <td>-0.029576</td>\n",
       "    </tr>\n",
       "    <tr>\n",
       "      <th>4</th>\n",
       "      <td>0.170710</td>\n",
       "      <td>-2.373352</td>\n",
       "      <td>-0.650586</td>\n",
       "      <td>-0.953151</td>\n",
       "      <td>0.909333</td>\n",
       "      <td>-0.190816</td>\n",
       "      <td>-1.516627</td>\n",
       "      <td>0.293182</td>\n",
       "      <td>-0.061394</td>\n",
       "      <td>-0.959500</td>\n",
       "      <td>...</td>\n",
       "      <td>0.128673</td>\n",
       "      <td>0.069754</td>\n",
       "      <td>-0.147297</td>\n",
       "      <td>0.002939</td>\n",
       "      <td>0.042259</td>\n",
       "      <td>0.324157</td>\n",
       "      <td>0.072861</td>\n",
       "      <td>-0.276871</td>\n",
       "      <td>-0.182246</td>\n",
       "      <td>-0.032509</td>\n",
       "    </tr>\n",
       "    <tr>\n",
       "      <th>...</th>\n",
       "      <td>...</td>\n",
       "      <td>...</td>\n",
       "      <td>...</td>\n",
       "      <td>...</td>\n",
       "      <td>...</td>\n",
       "      <td>...</td>\n",
       "      <td>...</td>\n",
       "      <td>...</td>\n",
       "      <td>...</td>\n",
       "      <td>...</td>\n",
       "      <td>...</td>\n",
       "      <td>...</td>\n",
       "      <td>...</td>\n",
       "      <td>...</td>\n",
       "      <td>...</td>\n",
       "      <td>...</td>\n",
       "      <td>...</td>\n",
       "      <td>...</td>\n",
       "      <td>...</td>\n",
       "      <td>...</td>\n",
       "      <td>...</td>\n",
       "    </tr>\n",
       "    <tr>\n",
       "      <th>27995</th>\n",
       "      <td>-0.648751</td>\n",
       "      <td>2.969372</td>\n",
       "      <td>-0.371897</td>\n",
       "      <td>-0.910779</td>\n",
       "      <td>0.062282</td>\n",
       "      <td>-0.210954</td>\n",
       "      <td>-0.151444</td>\n",
       "      <td>0.065001</td>\n",
       "      <td>-0.194441</td>\n",
       "      <td>0.304512</td>\n",
       "      <td>...</td>\n",
       "      <td>-0.040435</td>\n",
       "      <td>0.138936</td>\n",
       "      <td>-0.001286</td>\n",
       "      <td>0.020958</td>\n",
       "      <td>0.100904</td>\n",
       "      <td>0.133299</td>\n",
       "      <td>-0.236312</td>\n",
       "      <td>-0.190913</td>\n",
       "      <td>-0.120765</td>\n",
       "      <td>-0.055278</td>\n",
       "    </tr>\n",
       "    <tr>\n",
       "      <th>27996</th>\n",
       "      <td>-1.578513</td>\n",
       "      <td>1.889812</td>\n",
       "      <td>-0.804762</td>\n",
       "      <td>1.271985</td>\n",
       "      <td>0.381260</td>\n",
       "      <td>-0.125591</td>\n",
       "      <td>-1.806319</td>\n",
       "      <td>-0.713507</td>\n",
       "      <td>0.027067</td>\n",
       "      <td>-0.601456</td>\n",
       "      <td>...</td>\n",
       "      <td>-0.191283</td>\n",
       "      <td>-0.062142</td>\n",
       "      <td>0.101417</td>\n",
       "      <td>-0.008728</td>\n",
       "      <td>-0.067035</td>\n",
       "      <td>0.178713</td>\n",
       "      <td>-0.053817</td>\n",
       "      <td>-0.158135</td>\n",
       "      <td>0.150959</td>\n",
       "      <td>0.064200</td>\n",
       "    </tr>\n",
       "    <tr>\n",
       "      <th>27997</th>\n",
       "      <td>-0.083350</td>\n",
       "      <td>-1.983094</td>\n",
       "      <td>-2.480343</td>\n",
       "      <td>-0.719917</td>\n",
       "      <td>-0.208590</td>\n",
       "      <td>-0.351804</td>\n",
       "      <td>-1.318690</td>\n",
       "      <td>0.785495</td>\n",
       "      <td>0.416288</td>\n",
       "      <td>-0.717645</td>\n",
       "      <td>...</td>\n",
       "      <td>-0.170071</td>\n",
       "      <td>0.232917</td>\n",
       "      <td>-0.381249</td>\n",
       "      <td>0.058388</td>\n",
       "      <td>0.049471</td>\n",
       "      <td>-0.161089</td>\n",
       "      <td>-0.198302</td>\n",
       "      <td>-0.004242</td>\n",
       "      <td>0.056672</td>\n",
       "      <td>0.068208</td>\n",
       "    </tr>\n",
       "    <tr>\n",
       "      <th>27998</th>\n",
       "      <td>-1.032359</td>\n",
       "      <td>1.761351</td>\n",
       "      <td>-0.253984</td>\n",
       "      <td>-1.624347</td>\n",
       "      <td>-1.331773</td>\n",
       "      <td>-0.139480</td>\n",
       "      <td>-0.448059</td>\n",
       "      <td>1.484241</td>\n",
       "      <td>-1.507842</td>\n",
       "      <td>-0.895185</td>\n",
       "      <td>...</td>\n",
       "      <td>0.207911</td>\n",
       "      <td>0.148612</td>\n",
       "      <td>0.119871</td>\n",
       "      <td>0.103620</td>\n",
       "      <td>0.035526</td>\n",
       "      <td>-0.034404</td>\n",
       "      <td>0.022580</td>\n",
       "      <td>0.014834</td>\n",
       "      <td>-0.239322</td>\n",
       "      <td>0.067896</td>\n",
       "    </tr>\n",
       "    <tr>\n",
       "      <th>27999</th>\n",
       "      <td>1.507253</td>\n",
       "      <td>0.695333</td>\n",
       "      <td>1.246098</td>\n",
       "      <td>-0.676190</td>\n",
       "      <td>2.399808</td>\n",
       "      <td>-0.710875</td>\n",
       "      <td>0.613755</td>\n",
       "      <td>0.487251</td>\n",
       "      <td>-0.233040</td>\n",
       "      <td>0.679027</td>\n",
       "      <td>...</td>\n",
       "      <td>-0.228791</td>\n",
       "      <td>-0.208074</td>\n",
       "      <td>0.066602</td>\n",
       "      <td>-0.038970</td>\n",
       "      <td>0.070194</td>\n",
       "      <td>-0.074536</td>\n",
       "      <td>-0.010003</td>\n",
       "      <td>-0.301787</td>\n",
       "      <td>0.100748</td>\n",
       "      <td>0.182663</td>\n",
       "    </tr>\n",
       "  </tbody>\n",
       "</table>\n",
       "<p>28000 rows × 74 columns</p>\n",
       "</div>"
      ],
      "text/plain": [
       "             0         1         2         3         4         5         6   \\\n",
       "0      2.004526  0.276035  1.842684 -0.088970  3.411297  0.327099 -0.307218   \n",
       "1      2.845550  0.594646  0.281027  3.198423  0.674948  2.208782  0.986585   \n",
       "2     -1.303795  0.051278 -0.342434  0.316484  0.012735 -0.984140 -0.000561   \n",
       "3     -1.360863  1.610034  1.381302  0.518070  0.521639 -0.407715 -1.505105   \n",
       "4      0.170710 -2.373352 -0.650586 -0.953151  0.909333 -0.190816 -1.516627   \n",
       "...         ...       ...       ...       ...       ...       ...       ...   \n",
       "27995 -0.648751  2.969372 -0.371897 -0.910779  0.062282 -0.210954 -0.151444   \n",
       "27996 -1.578513  1.889812 -0.804762  1.271985  0.381260 -0.125591 -1.806319   \n",
       "27997 -0.083350 -1.983094 -2.480343 -0.719917 -0.208590 -0.351804 -1.318690   \n",
       "27998 -1.032359  1.761351 -0.253984 -1.624347 -1.331773 -0.139480 -0.448059   \n",
       "27999  1.507253  0.695333  1.246098 -0.676190  2.399808 -0.710875  0.613755   \n",
       "\n",
       "             7         8         9   ...        64        65        66  \\\n",
       "0      0.290768  0.453166  0.127341  ...  0.065256  0.146666  0.309478   \n",
       "1     -0.162041 -0.055617 -1.811131  ...  0.065040  0.173896 -0.039454   \n",
       "2     -1.301845 -0.760564  0.792396  ... -0.083746 -0.092168 -0.110684   \n",
       "3     -0.453884  0.131560 -0.307336  ...  0.370419  0.044777 -0.078944   \n",
       "4      0.293182 -0.061394 -0.959500  ...  0.128673  0.069754 -0.147297   \n",
       "...         ...       ...       ...  ...       ...       ...       ...   \n",
       "27995  0.065001 -0.194441  0.304512  ... -0.040435  0.138936 -0.001286   \n",
       "27996 -0.713507  0.027067 -0.601456  ... -0.191283 -0.062142  0.101417   \n",
       "27997  0.785495  0.416288 -0.717645  ... -0.170071  0.232917 -0.381249   \n",
       "27998  1.484241 -1.507842 -0.895185  ...  0.207911  0.148612  0.119871   \n",
       "27999  0.487251 -0.233040  0.679027  ... -0.228791 -0.208074  0.066602   \n",
       "\n",
       "             67        68        69        70        71        72        73  \n",
       "0     -0.695497  0.043700  0.210864  0.140458  0.084522  0.111919  0.384269  \n",
       "1      0.101808  0.222770  0.093779  0.115169  0.004728  0.067683 -0.051992  \n",
       "2      0.121155  0.102334 -0.180759  0.191000  0.188889 -0.120625 -0.046599  \n",
       "3     -0.218092  0.167807 -0.225725 -0.257196 -0.520533 -0.121637 -0.029576  \n",
       "4      0.002939  0.042259  0.324157  0.072861 -0.276871 -0.182246 -0.032509  \n",
       "...         ...       ...       ...       ...       ...       ...       ...  \n",
       "27995  0.020958  0.100904  0.133299 -0.236312 -0.190913 -0.120765 -0.055278  \n",
       "27996 -0.008728 -0.067035  0.178713 -0.053817 -0.158135  0.150959  0.064200  \n",
       "27997  0.058388  0.049471 -0.161089 -0.198302 -0.004242  0.056672  0.068208  \n",
       "27998  0.103620  0.035526 -0.034404  0.022580  0.014834 -0.239322  0.067896  \n",
       "27999 -0.038970  0.070194 -0.074536 -0.010003 -0.301787  0.100748  0.182663  \n",
       "\n",
       "[28000 rows x 74 columns]"
      ]
     },
     "execution_count": 38,
     "metadata": {},
     "output_type": "execute_result"
    }
   ],
   "source": [
    "test_x_pca = pca.transform(test_x_deskew_minmax)\n",
    "test_x_pca = pd.DataFrame(test_x_pca)\n",
    "test_x_pca"
   ]
  },
  {
   "cell_type": "code",
   "execution_count": 39,
   "metadata": {},
   "outputs": [],
   "source": [
    "final=clf.predict(test_x_pca)\n",
    "df=pd.DataFrame(final,columns=['Label'],index=np.arange(1,28001))"
   ]
  },
  {
   "cell_type": "code",
   "execution_count": 40,
   "metadata": {},
   "outputs": [],
   "source": [
    "df.to_csv('subimission_deskew_91.csv',index_label='ImageId')"
   ]
  },
  {
   "cell_type": "markdown",
   "metadata": {},
   "source": [
    "# score = 0.98685"
   ]
  },
  {
   "cell_type": "markdown",
   "metadata": {},
   "source": [
    "# Referrence\n",
    "* https://scikit-learn.org/stable/modules/generated/sklearn.manifold.TSNE.html\n",
    "* https://blog.csdn.net/hustqb/article/details/80628721\n",
    "* https://kknews.cc/zh-tw/code/kvzpj5b.html\n",
    "* https://www.kaggle.com/sanesanyo/digit-recognition-using-svm-with-98-accuracy"
   ]
  },
  {
   "cell_type": "code",
   "execution_count": null,
   "metadata": {},
   "outputs": [],
   "source": []
  }
 ],
 "metadata": {
  "kernelspec": {
   "display_name": "Python 3",
   "language": "python",
   "name": "python3"
  },
  "language_info": {
   "codemirror_mode": {
    "name": "ipython",
    "version": 3
   },
   "file_extension": ".py",
   "mimetype": "text/x-python",
   "name": "python",
   "nbconvert_exporter": "python",
   "pygments_lexer": "ipython3",
   "version": "3.6.10"
  }
 },
 "nbformat": 4,
 "nbformat_minor": 4
}
